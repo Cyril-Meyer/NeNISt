{
 "cells": [
  {
   "cell_type": "markdown",
   "metadata": {},
   "source": [
    "#### File : data/visualization.ipynb\n",
    "#### Authors : CM"
   ]
  },
  {
   "cell_type": "code",
   "execution_count": null,
   "metadata": {},
   "outputs": [],
   "source": [
    "import numpy as np\n",
    "import tensorflow as tf\n",
    "\n",
    "%matplotlib inline\n",
    "from matplotlib import pyplot as plt\n",
    "\n",
    "import datasets.I3 as D1\n",
    "import datasets.LW4 as D2\n",
    "import patch2D\n",
    "import patch2DM\n",
    "import patch25D\n",
    "import patch3D"
   ]
  },
  {
   "cell_type": "code",
   "execution_count": null,
   "metadata": {},
   "outputs": [],
   "source": [
    "train_i3_image_normalized_f32 = D1.train_i3_image_normalized_f32\n",
    "train_i3_image_normalized_f16 = D1.train_i3_image_normalized_f16\n",
    "train_i3_label_1 = D1.train_i3_label_1\n",
    "train_i3_label_2 = D1.train_i3_label_2\n",
    "train_i3_label_3 = D1.train_i3_label_3\n",
    "train_i3_label_1_indexes = D1.train_i3_label_1_indexes\n",
    "train_i3_label_2_indexes = D1.train_i3_label_2_indexes\n",
    "train_i3_label_3_indexes = D1.train_i3_label_3_indexes\n",
    "\n",
    "valid_i3_image_normalized_f32 = D1.valid_i3_image_normalized_f32\n",
    "valid_i3_image_normalized_f16 = D1.valid_i3_image_normalized_f16\n",
    "valid_i3_label_1 = D1.valid_i3_label_1\n",
    "valid_i3_label_2 = D1.valid_i3_label_2\n",
    "valid_i3_label_3 = D1.valid_i3_label_3\n",
    "valid_i3_label_1_indexes = D1.valid_i3_label_1_indexes\n",
    "valid_i3_label_2_indexes = D1.valid_i3_label_2_indexes\n",
    "valid_i3_label_3_indexes = D1.valid_i3_label_3_indexes\n",
    "\n",
    "test_i3_image_normalized_f32 = D1.test_i3_image_normalized_f32\n",
    "test_i3_image_normalized_f16 = D1.test_i3_image_normalized_f16\n",
    "test_i3_label_1 = D1.test_i3_label_1\n",
    "test_i3_label_2 = D1.test_i3_label_2\n",
    "test_i3_label_3 = D1.test_i3_label_3\n",
    "test_i3_label_1_indexes = D1.test_i3_label_1_indexes\n",
    "test_i3_label_2_indexes = D1.test_i3_label_2_indexes\n",
    "test_i3_label_3_indexes = D1.test_i3_label_3_indexes\n",
    "\n",
    "\n",
    "train_lw4_image_normalized_f32 = D2.train_lw4_image_normalized_f32\n",
    "train_lw4_image_normalized_f16 = D2.train_lw4_image_normalized_f16\n",
    "train_lw4_label_1 = D2.train_lw4_label_1\n",
    "train_lw4_label_2 = D2.train_lw4_label_2\n",
    "train_lw4_label_3 = D2.train_lw4_label_3\n",
    "train_lw4_label_1_indexes = D2.train_lw4_label_1_indexes\n",
    "train_lw4_label_2_indexes = D2.train_lw4_label_2_indexes\n",
    "train_lw4_label_3_indexes = D2.train_lw4_label_3_indexes\n",
    "\n",
    "valid_lw4_image_normalized_f32 = D2.valid_lw4_image_normalized_f32\n",
    "valid_lw4_image_normalized_f16 = D2.valid_lw4_image_normalized_f16\n",
    "valid_lw4_label_1 = D2.valid_lw4_label_1\n",
    "valid_lw4_label_2 = D2.valid_lw4_label_2\n",
    "valid_lw4_label_3 = D2.valid_lw4_label_3\n",
    "valid_lw4_label_1_indexes = D2.valid_lw4_label_1_indexes\n",
    "valid_lw4_label_2_indexes = D2.valid_lw4_label_2_indexes\n",
    "valid_lw4_label_3_indexes = D2.valid_lw4_label_3_indexes\n",
    "\n",
    "test_lw4_image_normalized_f32 = D2.test_lw4_image_normalized_f32\n",
    "test_lw4_image_normalized_f16 = D2.test_lw4_image_normalized_f16\n",
    "test_lw4_label_1 = D2.test_lw4_label_1\n",
    "test_lw4_label_2 = D2.test_lw4_label_2\n",
    "test_lw4_label_3 = D2.test_lw4_label_3\n",
    "test_lw4_label_1_indexes = D2.test_lw4_label_1_indexes\n",
    "test_lw4_label_2_indexes = D2.test_lw4_label_2_indexes\n",
    "test_lw4_label_3_indexes = D2.test_lw4_label_3_indexes\n",
    "\n",
    "ones_i3 = np.ones(train_i3_image_normalized_f32.shape[1:3])*255\n",
    "ones_lw4 = np.ones(train_lw4_image_normalized_f32.shape[1:3])*255"
   ]
  },
  {
   "cell_type": "markdown",
   "metadata": {},
   "source": [
    "### Checks"
   ]
  },
  {
   "cell_type": "code",
   "execution_count": null,
   "metadata": {},
   "outputs": [],
   "source": [
    "plt.figure(figsize=(30, 16))\n",
    "plt.subplot(231)\n",
    "plt.imshow(train_i3_image_normalized_f32[0], cmap=\"gray\")\n",
    "plt.subplot(232)\n",
    "plt.imshow(train_i3_image_normalized_f32[29], cmap=\"gray\")\n",
    "plt.subplot(233)\n",
    "plt.imshow(valid_i3_image_normalized_f32[0], cmap=\"gray\")\n",
    "plt.subplot(234)\n",
    "plt.imshow(valid_i3_image_normalized_f32[19], cmap=\"gray\")\n",
    "plt.subplot(235)\n",
    "plt.imshow(test_i3_image_normalized_f32[0], cmap=\"gray\")\n",
    "plt.subplot(236)\n",
    "plt.imshow(test_i3_image_normalized_f32[18], cmap=\"gray\")"
   ]
  },
  {
   "cell_type": "code",
   "execution_count": null,
   "metadata": {},
   "outputs": [],
   "source": [
    "plt.figure(figsize=(30, 16))\n",
    "plt.subplot(231)\n",
    "plt.imshow((train_i3_image_normalized_f16[0]*255).astype(np.uint8), cmap=\"gray\")\n",
    "plt.subplot(232)\n",
    "plt.imshow((train_i3_image_normalized_f16[29]*255).astype(np.uint8), cmap=\"gray\")\n",
    "plt.subplot(233)\n",
    "plt.imshow((valid_i3_image_normalized_f16[0]*255).astype(np.uint8), cmap=\"gray\")\n",
    "plt.subplot(234)\n",
    "plt.imshow((valid_i3_image_normalized_f16[19]*255).astype(np.uint8), cmap=\"gray\")\n",
    "plt.subplot(235)\n",
    "plt.imshow((test_i3_image_normalized_f16[0]*255).astype(np.uint8), cmap=\"gray\")\n",
    "plt.subplot(236)\n",
    "plt.imshow((test_i3_image_normalized_f16[18]*255).astype(np.uint8), cmap=\"gray\")"
   ]
  },
  {
   "cell_type": "code",
   "execution_count": null,
   "metadata": {},
   "outputs": [],
   "source": [
    "plt.figure(figsize=(30, 16))\n",
    "plt.subplot(231)\n",
    "plt.imshow(train_i3_image_normalized_f32[0], cmap=\"gray\")\n",
    "plt.imshow(np.ma.masked_where(train_i3_label_1[0] == 0, ones_i3), cmap='hsv', interpolation='none', alpha=0.25)\n",
    "plt.imshow(np.ma.masked_where(train_i3_label_2[0] == 0, ones_i3), cmap='hsv', interpolation='none', alpha=1.0)\n",
    "plt.imshow(np.ma.masked_where(train_i3_label_3[0] == 0, ones_i3), cmap='jet', interpolation='none', alpha=0.50)\n",
    "plt.subplot(232)\n",
    "plt.imshow(train_i3_image_normalized_f32[29], cmap=\"gray\")\n",
    "plt.imshow(np.ma.masked_where(train_i3_label_1[29] == 0, ones_i3), cmap='hsv', interpolation='none', alpha=0.25)\n",
    "plt.imshow(np.ma.masked_where(train_i3_label_2[29] == 0, ones_i3), cmap='hsv', interpolation='none', alpha=1.0)\n",
    "plt.imshow(np.ma.masked_where(train_i3_label_3[29] == 0, ones_i3), cmap='jet', interpolation='none', alpha=0.50)\n",
    "plt.subplot(233)\n",
    "plt.imshow(valid_i3_image_normalized_f32[0], cmap=\"gray\")\n",
    "plt.imshow(np.ma.masked_where(valid_i3_label_1[0] == 0, ones_i3), cmap='hsv', interpolation='none', alpha=0.25)\n",
    "plt.imshow(np.ma.masked_where(valid_i3_label_2[0] == 0, ones_i3), cmap='hsv', interpolation='none', alpha=1.0)\n",
    "plt.imshow(np.ma.masked_where(valid_i3_label_3[0] == 0, ones_i3), cmap='jet', interpolation='none', alpha=0.50)\n",
    "plt.subplot(234)\n",
    "plt.imshow(valid_i3_image_normalized_f32[19], cmap=\"gray\")\n",
    "plt.imshow(np.ma.masked_where(valid_i3_label_1[19] == 0, ones_i3), cmap='hsv', interpolation='none', alpha=0.25)\n",
    "plt.imshow(np.ma.masked_where(valid_i3_label_2[19] == 0, ones_i3), cmap='hsv', interpolation='none', alpha=1.0)\n",
    "plt.imshow(np.ma.masked_where(valid_i3_label_3[19] == 0, ones_i3), cmap='jet', interpolation='none', alpha=0.50)\n",
    "plt.subplot(235)\n",
    "plt.imshow(test_i3_image_normalized_f32[0], cmap=\"gray\")\n",
    "plt.imshow(np.ma.masked_where(test_i3_label_1[0] == 0, ones_i3), cmap='hsv', interpolation='none', alpha=0.25)\n",
    "plt.imshow(np.ma.masked_where(test_i3_label_2[0] == 0, ones_i3), cmap='hsv', interpolation='none', alpha=1.0)\n",
    "plt.imshow(np.ma.masked_where(test_i3_label_3[0] == 0, ones_i3), cmap='jet', interpolation='none', alpha=0.50)\n",
    "plt.subplot(236)\n",
    "plt.imshow(test_i3_image_normalized_f32[18], cmap=\"gray\")\n",
    "plt.imshow(np.ma.masked_where(test_i3_label_1[18] == 0, train_i3_label_1[0]), cmap='hsv', interpolation='none', alpha=0.25)\n",
    "plt.imshow(np.ma.masked_where(test_i3_label_2[18] == 0, ones_i3), cmap='hsv', interpolation='none', alpha=1.0)\n",
    "plt.imshow(np.ma.masked_where(test_i3_label_3[18] == 0, ones_i3), cmap='jet', interpolation='none', alpha=0.50)"
   ]
  },
  {
   "cell_type": "code",
   "execution_count": null,
   "metadata": {},
   "outputs": [],
   "source": [
    "plt.figure(figsize=(30, 16))\n",
    "plt.subplot(231)\n",
    "plt.imshow(train_lw4_image_normalized_f32[0], cmap=\"gray\")\n",
    "plt.subplot(232)\n",
    "plt.imshow(train_lw4_image_normalized_f32[29], cmap=\"gray\")\n",
    "plt.subplot(233)\n",
    "plt.imshow(valid_lw4_image_normalized_f32[0], cmap=\"gray\")\n",
    "plt.subplot(234)\n",
    "plt.imshow(valid_lw4_image_normalized_f32[19], cmap=\"gray\")\n",
    "plt.subplot(235)\n",
    "plt.imshow(test_lw4_image_normalized_f32[0], cmap=\"gray\")\n",
    "plt.subplot(236)\n",
    "plt.imshow(test_lw4_image_normalized_f32[18], cmap=\"gray\")"
   ]
  },
  {
   "cell_type": "code",
   "execution_count": null,
   "metadata": {},
   "outputs": [],
   "source": [
    "plt.figure(figsize=(30, 16))\n",
    "plt.subplot(231)\n",
    "plt.imshow((train_lw4_image_normalized_f16[0]*255).astype(np.uint8), cmap=\"gray\")\n",
    "plt.subplot(232)\n",
    "plt.imshow((train_lw4_image_normalized_f16[29]*255).astype(np.uint8), cmap=\"gray\")\n",
    "plt.subplot(233)\n",
    "plt.imshow((valid_lw4_image_normalized_f16[0]*255).astype(np.uint8), cmap=\"gray\")\n",
    "plt.subplot(234)\n",
    "plt.imshow((valid_lw4_image_normalized_f16[19]*255).astype(np.uint8), cmap=\"gray\")\n",
    "plt.subplot(235)\n",
    "plt.imshow((test_lw4_image_normalized_f16[0]*255).astype(np.uint8), cmap=\"gray\")\n",
    "plt.subplot(236)\n",
    "plt.imshow((test_lw4_image_normalized_f16[18]*255).astype(np.uint8), cmap=\"gray\")"
   ]
  },
  {
   "cell_type": "code",
   "execution_count": null,
   "metadata": {},
   "outputs": [],
   "source": [
    "plt.figure(figsize=(30, 16))\n",
    "plt.subplot(231)\n",
    "plt.imshow(train_lw4_image_normalized_f32[0], cmap=\"gray\")\n",
    "plt.imshow(np.ma.masked_where(train_lw4_label_1[0] == 0, ones_lw4), cmap='hsv', interpolation='none', alpha=0.25)\n",
    "plt.imshow(np.ma.masked_where(train_lw4_label_2[0] == 0, ones_lw4), cmap='hsv', interpolation='none', alpha=1.0)\n",
    "plt.imshow(np.ma.masked_where(train_lw4_label_3[0] == 0, ones_lw4), cmap='jet', interpolation='none', alpha=0.50)\n",
    "plt.subplot(232)\n",
    "plt.imshow(train_lw4_image_normalized_f32[29], cmap=\"gray\")\n",
    "plt.imshow(np.ma.masked_where(train_lw4_label_1[29] == 0, ones_lw4), cmap='hsv', interpolation='none', alpha=0.25)\n",
    "plt.imshow(np.ma.masked_where(train_lw4_label_2[29] == 0, ones_lw4), cmap='hsv', interpolation='none', alpha=1.0)\n",
    "plt.imshow(np.ma.masked_where(train_lw4_label_3[29] == 0, ones_lw4), cmap='jet', interpolation='none', alpha=0.50)\n",
    "plt.subplot(233)\n",
    "plt.imshow(valid_lw4_image_normalized_f32[0], cmap=\"gray\")\n",
    "plt.imshow(np.ma.masked_where(valid_lw4_label_1[0] == 0, ones_lw4), cmap='hsv', interpolation='none', alpha=0.25)\n",
    "plt.imshow(np.ma.masked_where(valid_lw4_label_2[0] == 0, ones_lw4), cmap='hsv', interpolation='none', alpha=1.0)\n",
    "plt.imshow(np.ma.masked_where(valid_lw4_label_3[0] == 0, ones_lw4), cmap='jet', interpolation='none', alpha=0.50)\n",
    "plt.subplot(234)\n",
    "plt.imshow(valid_lw4_image_normalized_f32[19], cmap=\"gray\")\n",
    "plt.imshow(np.ma.masked_where(valid_lw4_label_1[19] == 0, ones_lw4), cmap='hsv', interpolation='none', alpha=0.25)\n",
    "plt.imshow(np.ma.masked_where(valid_lw4_label_2[19] == 0, ones_lw4), cmap='hsv', interpolation='none', alpha=1.0)\n",
    "plt.imshow(np.ma.masked_where(valid_lw4_label_3[19] == 0, ones_lw4), cmap='jet', interpolation='none', alpha=0.50)\n",
    "plt.subplot(235)\n",
    "plt.imshow(test_lw4_image_normalized_f32[0], cmap=\"gray\")\n",
    "plt.imshow(np.ma.masked_where(test_lw4_label_1[0] == 0, ones_lw4), cmap='hsv', interpolation='none', alpha=0.25)\n",
    "plt.imshow(np.ma.masked_where(test_lw4_label_2[0] == 0, ones_lw4), cmap='hsv', interpolation='none', alpha=1.0)\n",
    "plt.imshow(np.ma.masked_where(test_lw4_label_3[0] == 0, ones_lw4), cmap='jet', interpolation='none', alpha=0.50)\n",
    "plt.subplot(236)\n",
    "plt.imshow(test_lw4_image_normalized_f32[19], cmap=\"gray\")\n",
    "plt.imshow(np.ma.masked_where(test_lw4_label_1[19] == 0, train_lw4_label_1[0]), cmap='hsv', interpolation='none', alpha=0.25)\n",
    "plt.imshow(np.ma.masked_where(test_lw4_label_2[19] == 0, ones_lw4), cmap='hsv', interpolation='none', alpha=1.0)\n",
    "plt.imshow(np.ma.masked_where(test_lw4_label_3[19] == 0, ones_lw4), cmap='jet', interpolation='none', alpha=0.50)"
   ]
  },
  {
   "cell_type": "code",
   "execution_count": null,
   "metadata": {},
   "outputs": [],
   "source": [
    "train_i3_labels = np.sum([train_i3_label_1, train_i3_label_2*2, train_i3_label_3*3], axis=0).astype(np.uint8)\n",
    "train_i3_background = np.where(train_i3_labels > 0, 0, 1)\n",
    "train_i3_labels_indexes = [train_i3_label_1_indexes, train_i3_label_2_indexes, train_i3_label_3_indexes]\n",
    "train_i3_labels_one_hot = np.stack([train_i3_background, train_i3_label_1, train_i3_label_2, train_i3_label_3], axis=-1)\n",
    "\n",
    "test_lw4_labels = np.sum([test_lw4_label_1, test_lw4_label_2*2, test_lw4_label_3*3], axis=0).astype(np.uint8)\n",
    "test_lw4_background = np.where(test_lw4_labels > 0, 0, 1)\n",
    "test_lw4_labels_indexes = [test_lw4_label_1_indexes, test_lw4_label_2_indexes, test_lw4_label_3_indexes]\n",
    "test_lw4_labels_one_hot = np.stack([test_lw4_background, test_lw4_label_1, test_lw4_label_2, test_lw4_label_3], axis=-1)"
   ]
  },
  {
   "cell_type": "code",
   "execution_count": null,
   "metadata": {},
   "outputs": [],
   "source": [
    "ones_256 = np.ones((256, 256))*255"
   ]
  },
  {
   "cell_type": "code",
   "execution_count": null,
   "metadata": {},
   "outputs": [],
   "source": [
    "train_i3 = patch2D.gen_patches_batch_augmented_label_indexes_one_hot(256, train_i3_image_normalized_f16, train_i3_labels_one_hot, train_i3_labels_indexes, batch_size=1)\n",
    "test_lw4 = patch2D.gen_patches_batch_augmented_label_indexes_one_hot(256, test_lw4_image_normalized_f16, test_lw4_labels_one_hot, test_lw4_labels_indexes, batch_size=1)"
   ]
  },
  {
   "cell_type": "code",
   "execution_count": null,
   "metadata": {},
   "outputs": [],
   "source": [
    "X, Y = next(train_i3)\n",
    "plt.imshow(X[0, :, :, 0], cmap=\"gray\")\n",
    "plt.imshow(np.ma.masked_where(Y[0, :, :, 1] == 0, ones_256), cmap='hsv', interpolation='none', alpha=0.20)\n",
    "plt.imshow(np.ma.masked_where(Y[0, :, :, 2] == 0, ones_256), cmap='spring', interpolation='none', alpha=0.20)\n",
    "plt.imshow(np.ma.masked_where(Y[0, :, :, 3] == 0, ones_256), cmap='jet', interpolation='none', alpha=0.20)"
   ]
  },
  {
   "cell_type": "code",
   "execution_count": null,
   "metadata": {},
   "outputs": [],
   "source": [
    "X, Y = next(test_lw4)\n",
    "plt.imshow(X[0, :, :, 0], cmap=\"gray\")\n",
    "plt.imshow(np.ma.masked_where(Y[0, :, :, 1] == 0, ones_256), cmap='hsv', interpolation='none', alpha=0.20)\n",
    "plt.imshow(np.ma.masked_where(Y[0, :, :, 2] == 0, ones_256), cmap='spring', interpolation='none', alpha=0.20)\n",
    "plt.imshow(np.ma.masked_where(Y[0, :, :, 3] == 0, ones_256), cmap='jet', interpolation='none', alpha=0.20)"
   ]
  },
  {
   "cell_type": "code",
   "execution_count": null,
   "metadata": {},
   "outputs": [],
   "source": [
    "train_i3 = patch2DM.gen_patches_batch_augmented_tos_area_label_indexes_one_hot_p(256, train_i3_image_normalized_f16, train_i3_labels_one_hot, train_i3_labels_indexes, batch_size=1, lambdas=[3200, 650])\n",
    "test_lw4 = patch2DM.gen_patches_batch_augmented_tos_area_label_indexes_one_hot_p(256, test_lw4_image_normalized_f16, test_lw4_labels_one_hot, test_lw4_labels_indexes, batch_size=1, lambdas=[3200, 650])"
   ]
  },
  {
   "cell_type": "code",
   "execution_count": null,
   "metadata": {},
   "outputs": [],
   "source": [
    "X, Y = next(train_i3)\n",
    "plt.figure(figsize=(30, 16))\n",
    "plt.subplot(131)\n",
    "plt.imshow(X[0, :, :, 0], cmap=\"gray\")\n",
    "plt.imshow(np.ma.masked_where(Y[0, :, :, 1] == 0, ones_256), cmap='hsv', interpolation='none', alpha=0.20)\n",
    "plt.imshow(np.ma.masked_where(Y[0, :, :, 2] == 0, ones_256), cmap='spring', interpolation='none', alpha=0.20)\n",
    "plt.imshow(np.ma.masked_where(Y[0, :, :, 3] == 0, ones_256), cmap='jet', interpolation='none', alpha=0.20)\n",
    "plt.subplot(132)\n",
    "plt.imshow(X[0, :, :, 1], cmap=\"gray\")\n",
    "plt.subplot(133)\n",
    "plt.imshow(X[0, :, :, 2], cmap=\"gray\")"
   ]
  },
  {
   "cell_type": "code",
   "execution_count": null,
   "metadata": {},
   "outputs": [],
   "source": [
    "X, Y = next(test_lw4)\n",
    "plt.figure(figsize=(30, 16))\n",
    "plt.subplot(131)\n",
    "plt.imshow(X[0, :, :, 0], cmap=\"gray\")\n",
    "plt.imshow(np.ma.masked_where(Y[0, :, :, 1] == 0, ones_256), cmap='hsv', interpolation='none', alpha=0.20)\n",
    "plt.imshow(np.ma.masked_where(Y[0, :, :, 2] == 0, ones_256), cmap='spring', interpolation='none', alpha=0.20)\n",
    "plt.imshow(np.ma.masked_where(Y[0, :, :, 3] == 0, ones_256), cmap='jet', interpolation='none', alpha=0.20)\n",
    "plt.subplot(132)\n",
    "plt.imshow(X[0, :, :, 1], cmap=\"gray\")\n",
    "plt.subplot(133)\n",
    "plt.imshow(X[0, :, :, 2], cmap=\"gray\")"
   ]
  },
  {
   "cell_type": "code",
   "execution_count": null,
   "metadata": {},
   "outputs": [],
   "source": [
    "train_i3 = patch2DM.gen_patches_batch_augmented_tos_area_label_indexes_one_hot_p(256, train_i3_image_normalized_f16, train_i3_labels_one_hot, train_i3_labels_indexes, batch_size=8, lambdas=[6000, 12000])"
   ]
  },
  {
   "cell_type": "code",
   "execution_count": null,
   "metadata": {},
   "outputs": [],
   "source": [
    "test_lw4 = patch2DM.gen_patches_batch_augmented_tos_area_label_indexes_one_hot_p(256, test_lw4_image_normalized_f16, test_lw4_labels_one_hot, test_lw4_labels_indexes, batch_size=8, lambdas=[6000, 12000])"
   ]
  },
  {
   "cell_type": "code",
   "execution_count": null,
   "metadata": {},
   "outputs": [],
   "source": [
    "X, Y = next(train_i3)\n",
    "X.shape, Y.shape"
   ]
  },
  {
   "cell_type": "code",
   "execution_count": null,
   "metadata": {},
   "outputs": [],
   "source": [
    "plt.figure(figsize=(30, 16))\n",
    "plt.subplot(241)\n",
    "plt.imshow(X[0, :, :, 0], cmap=\"gray\")\n",
    "plt.subplot(242)\n",
    "plt.imshow(X[0, :, :, 1], cmap=\"gray\")\n",
    "plt.subplot(243)\n",
    "plt.imshow(X[0, :, :, 2], cmap=\"gray\")\n",
    "plt.subplot(244)\n",
    "plt.imshow(Y[0, :, :, 0], cmap=\"gray\")\n",
    "plt.subplot(245)\n",
    "plt.imshow(X[1, :, :, 0], cmap=\"gray\")\n",
    "plt.subplot(246)\n",
    "plt.imshow(X[1, :, :, 1], cmap=\"gray\")\n",
    "plt.subplot(247)\n",
    "plt.imshow(X[1, :, :, 2], cmap=\"gray\")\n",
    "plt.subplot(248)\n",
    "plt.imshow(Y[1, :, :, 0], cmap=\"gray\")"
   ]
  },
  {
   "cell_type": "code",
   "execution_count": null,
   "metadata": {},
   "outputs": [],
   "source": [
    "X, Y = next(test_lw4)\n",
    "X.shape, Y.shape"
   ]
  },
  {
   "cell_type": "code",
   "execution_count": null,
   "metadata": {},
   "outputs": [],
   "source": [
    "plt.figure(figsize=(30, 16))\n",
    "plt.subplot(241)\n",
    "plt.imshow(X[0, :, :, 0], cmap=\"gray\")\n",
    "plt.subplot(242)\n",
    "plt.imshow(X[0, :, :, 1], cmap=\"gray\")\n",
    "plt.subplot(243)\n",
    "plt.imshow(X[0, :, :, 2], cmap=\"gray\")\n",
    "plt.subplot(244)\n",
    "plt.imshow(Y[0, :, :, 0], cmap=\"gray\")\n",
    "plt.subplot(245)\n",
    "plt.imshow(X[1, :, :, 0], cmap=\"gray\")\n",
    "plt.subplot(246)\n",
    "plt.imshow(X[1, :, :, 1], cmap=\"gray\")\n",
    "plt.subplot(247)\n",
    "plt.imshow(X[1, :, :, 2], cmap=\"gray\")\n",
    "plt.subplot(248)\n",
    "plt.imshow(Y[1, :, :, 0], cmap=\"gray\")"
   ]
  },
  {
   "cell_type": "code",
   "execution_count": null,
   "metadata": {},
   "outputs": [],
   "source": [
    "plt.figure(figsize=(30, 16))\n",
    "plt.subplot(241)\n",
    "plt.imshow(X[2, :, :, 0], cmap=\"gray\")\n",
    "plt.subplot(242)\n",
    "plt.imshow(X[2, :, :, 1], cmap=\"gray\")\n",
    "plt.subplot(243)\n",
    "plt.imshow(X[2, :, :, 2], cmap=\"gray\")\n",
    "plt.subplot(244)\n",
    "plt.imshow(Y[2, :, :, 0], cmap=\"gray\")\n",
    "plt.subplot(245)\n",
    "plt.imshow(X[3, :, :, 0], cmap=\"gray\")\n",
    "plt.subplot(246)\n",
    "plt.imshow(X[3, :, :, 1], cmap=\"gray\")\n",
    "plt.subplot(247)\n",
    "plt.imshow(X[3, :, :, 2], cmap=\"gray\")\n",
    "plt.subplot(248)\n",
    "plt.imshow(Y[3, :, :, 0], cmap=\"gray\")"
   ]
  },
  {
   "cell_type": "code",
   "execution_count": null,
   "metadata": {},
   "outputs": [],
   "source": [
    "train_i3 = patch25D.gen_patches_batch_augmented_25d_label_indexes_one_hot(256, train_i3_image_normalized_f16, train_i3_labels_one_hot, train_i3_labels_indexes, batch_size=1, z_slices=3)\n",
    "test_lw4 = patch25D.gen_patches_batch_augmented_25d_label_indexes_one_hot(256, test_lw4_image_normalized_f16, test_lw4_labels_one_hot, test_lw4_labels_indexes, batch_size=1, z_slices=3)"
   ]
  },
  {
   "cell_type": "code",
   "execution_count": null,
   "metadata": {},
   "outputs": [],
   "source": [
    "X, Y = next(train_i3)\n",
    "plt.figure(figsize=(30, 16))\n",
    "plt.subplot(131)\n",
    "plt.imshow(X[0, :, :, 0], cmap=\"gray\")\n",
    "plt.subplot(132)\n",
    "plt.imshow(X[0, :, :, 1], cmap=\"gray\")\n",
    "plt.imshow(np.ma.masked_where(Y[0, :, :, 1] == 0, ones_256), cmap='hsv', interpolation='none', alpha=0.20)\n",
    "plt.imshow(np.ma.masked_where(Y[0, :, :, 2] == 0, ones_256), cmap='spring', interpolation='none', alpha=0.20)\n",
    "plt.imshow(np.ma.masked_where(Y[0, :, :, 3] == 0, ones_256), cmap='jet', interpolation='none', alpha=0.20)\n",
    "plt.subplot(133)\n",
    "plt.imshow(X[0, :, :, 2], cmap=\"gray\")"
   ]
  },
  {
   "cell_type": "code",
   "execution_count": null,
   "metadata": {},
   "outputs": [],
   "source": [
    "X, Y = next(test_lw4)\n",
    "plt.figure(figsize=(30, 16))\n",
    "plt.subplot(131)\n",
    "plt.imshow(X[0, :, :, 0], cmap=\"gray\")\n",
    "plt.subplot(132)\n",
    "plt.imshow(X[0, :, :, 1], cmap=\"gray\")\n",
    "plt.imshow(np.ma.masked_where(Y[0, :, :, 1] == 0, ones_256), cmap='hsv', interpolation='none', alpha=0.20)\n",
    "plt.imshow(np.ma.masked_where(Y[0, :, :, 2] == 0, ones_256), cmap='spring', interpolation='none', alpha=0.20)\n",
    "plt.imshow(np.ma.masked_where(Y[0, :, :, 3] == 0, ones_256), cmap='jet', interpolation='none', alpha=0.20)\n",
    "plt.subplot(133)\n",
    "plt.imshow(X[0, :, :, 2], cmap=\"gray\")"
   ]
  },
  {
   "cell_type": "code",
   "execution_count": null,
   "metadata": {},
   "outputs": [],
   "source": [
    "import sys\n",
    "del sys.modules['patch3D']\n",
    "import patch3D\n",
    "\n",
    "train_i3 = patch3D.gen_patches_batch_augmented_3d_label_indexes_one_hot(5, 256, 256, train_i3_image_normalized_f16, train_i3_labels_one_hot, train_i3_labels_indexes, batch_size=32)\n",
    "test_lw4 = patch3D.gen_patches_batch_augmented_3d_label_indexes_one_hot(5, 256, 256, test_lw4_image_normalized_f16, test_lw4_labels_one_hot, test_lw4_labels_indexes, batch_size=32)"
   ]
  },
  {
   "cell_type": "code",
   "execution_count": null,
   "metadata": {},
   "outputs": [],
   "source": [
    "X, Y = next(test_lw4)\n",
    "\n",
    "plt.figure(figsize=(30, 16))\n",
    "plt.subplot(151)\n",
    "plt.imshow(X[0, 0, :, :, 0], cmap=\"gray\")\n",
    "\n",
    "plt.imshow(np.ma.masked_where(Y[0, 0, :, :, 1] == 0, ones_256), cmap='hsv', interpolation='none', alpha=0.20)\n",
    "plt.imshow(np.ma.masked_where(Y[0, 0, :, :, 2] == 0, ones_256), cmap='spring', interpolation='none', alpha=0.20)\n",
    "plt.imshow(np.ma.masked_where(Y[0, 0, :, :, 3] == 0, ones_256), cmap='jet', interpolation='none', alpha=0.20)\n",
    "\n",
    "plt.subplot(152)\n",
    "plt.imshow(X[0, 1, :, :, 0], cmap=\"gray\")\n",
    "\n",
    "plt.imshow(np.ma.masked_where(Y[0, 1, :, :, 1] == 0, ones_256), cmap='hsv', interpolation='none', alpha=0.20)\n",
    "plt.imshow(np.ma.masked_where(Y[0, 1, :, :, 2] == 0, ones_256), cmap='spring', interpolation='none', alpha=0.20)\n",
    "plt.imshow(np.ma.masked_where(Y[0, 1, :, :, 3] == 0, ones_256), cmap='jet', interpolation='none', alpha=0.20)\n",
    "\n",
    "plt.subplot(153)\n",
    "plt.imshow(X[0, 2, :, :, 0], cmap=\"gray\")\n",
    "\n",
    "plt.imshow(np.ma.masked_where(Y[0, 2, :, :, 1] == 0, ones_256), cmap='hsv', interpolation='none', alpha=0.20)\n",
    "plt.imshow(np.ma.masked_where(Y[0, 2, :, :, 2] == 0, ones_256), cmap='spring', interpolation='none', alpha=0.20)\n",
    "plt.imshow(np.ma.masked_where(Y[0, 2, :, :, 3] == 0, ones_256), cmap='jet', interpolation='none', alpha=0.20)\n",
    "\n",
    "plt.subplot(154)\n",
    "plt.imshow(X[0, 3, :, :, 0], cmap=\"gray\")\n",
    "\n",
    "plt.imshow(np.ma.masked_where(Y[0, 3, :, :, 1] == 0, ones_256), cmap='hsv', interpolation='none', alpha=0.20)\n",
    "plt.imshow(np.ma.masked_where(Y[0, 3, :, :, 2] == 0, ones_256), cmap='spring', interpolation='none', alpha=0.20)\n",
    "plt.imshow(np.ma.masked_where(Y[0, 3, :, :, 3] == 0, ones_256), cmap='jet', interpolation='none', alpha=0.20)\n",
    "\n",
    "plt.subplot(155)\n",
    "plt.imshow(X[0, 4, :, :, 0], cmap=\"gray\")\n",
    "\n",
    "plt.imshow(np.ma.masked_where(Y[0, 4, :, :, 1] == 0, ones_256), cmap='hsv', interpolation='none', alpha=0.20)\n",
    "plt.imshow(np.ma.masked_where(Y[0, 4, :, :, 2] == 0, ones_256), cmap='spring', interpolation='none', alpha=0.20)\n",
    "plt.imshow(np.ma.masked_where(Y[0, 4, :, :, 3] == 0, ones_256), cmap='jet', interpolation='none', alpha=0.20)"
   ]
  }
 ],
 "metadata": {
  "kernelspec": {
   "display_name": "venv_tf230",
   "language": "python",
   "name": "venv_tf230"
  },
  "language_info": {
   "codemirror_mode": {
    "name": "ipython",
    "version": 3
   },
   "file_extension": ".py",
   "mimetype": "text/x-python",
   "name": "python",
   "nbconvert_exporter": "python",
   "pygments_lexer": "ipython3",
   "version": "3.6.9"
  }
 },
 "nbformat": 4,
 "nbformat_minor": 4
}
