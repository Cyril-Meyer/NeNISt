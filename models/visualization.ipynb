{
 "cells": [
  {
   "cell_type": "code",
   "execution_count": 1,
   "metadata": {},
   "outputs": [
    {
     "name": "stdout",
     "output_type": "stream",
     "text": [
      "Segmentation Models: using `tf.keras` framework.\n"
     ]
    }
   ],
   "source": [
    "import numpy as np\n",
    "import tensorflow as tf\n",
    "from tensorflow.keras import backend as K\n",
    "import segmentation_models as sm\n",
    "import UNet\n",
    "import UNet3D\n",
    "import EfficientUNet"
   ]
  },
  {
   "cell_type": "code",
   "execution_count": 2,
   "metadata": {},
   "outputs": [
    {
     "data": {
      "text/plain": [
       "'2.3.0'"
      ]
     },
     "execution_count": 2,
     "metadata": {},
     "output_type": "execute_result"
    }
   ],
   "source": [
    "tf.__version__"
   ]
  },
  {
   "cell_type": "markdown",
   "metadata": {},
   "source": [
    "### Short model information"
   ]
  },
  {
   "cell_type": "code",
   "execution_count": 3,
   "metadata": {},
   "outputs": [],
   "source": [
    "def model_info(model):\n",
    "    print(model.input_shape)\n",
    "    print(model.output_shape)\n",
    "    params = model.count_params()\n",
    "    print(f\"{params:,}\")\n",
    "    \n",
    "def model_memory_usage(batch_size, model):\n",
    "    shapes_mem_count = 0\n",
    "    internal_model_mem_count = 0\n",
    "    for l in model.layers:\n",
    "        layer_type = l.__class__.__name__\n",
    "        if layer_type == 'Model':\n",
    "            internal_model_mem_count += get_model_memory_usage(batch_size, l)\n",
    "        single_layer_mem = 1\n",
    "        out_shape = l.output_shape\n",
    "        if type(out_shape) is list:\n",
    "            out_shape = out_shape[0]\n",
    "        for s in out_shape:\n",
    "            if s is None:\n",
    "                continue\n",
    "            single_layer_mem *= s\n",
    "        shapes_mem_count += single_layer_mem\n",
    "\n",
    "    trainable_count = np.sum([K.count_params(p) for p in model.trainable_weights])\n",
    "    non_trainable_count = np.sum([K.count_params(p) for p in model.non_trainable_weights])\n",
    "\n",
    "    number_size = 4.0\n",
    "    if K.floatx() == 'float16':\n",
    "        number_size = 2.0\n",
    "    if K.floatx() == 'float64':\n",
    "        number_size = 8.0\n",
    "\n",
    "    total_memory = number_size * (batch_size * shapes_mem_count + trainable_count + non_trainable_count)\n",
    "    gbytes = np.round(total_memory / (1024.0 ** 3), 3) + internal_model_mem_count\n",
    "    print(gbytes)"
   ]
  },
  {
   "cell_type": "markdown",
   "metadata": {},
   "source": [
    "### Used models"
   ]
  },
  {
   "cell_type": "code",
   "execution_count": 4,
   "metadata": {},
   "outputs": [],
   "source": [
    "UNET2D_1 = UNet.UNet(input_shape=(256, 256, 1), output_classes=9, filters=64, depth=5, conv_per_block=2, padding='same', dropouts=0.50, batch_normalization=True)"
   ]
  },
  {
   "cell_type": "code",
   "execution_count": 5,
   "metadata": {},
   "outputs": [],
   "source": [
    "UNET3D_1 = UNet3D.UNet(input_shape=(256, 256, 8, 1), output_classes=9, output_activation='sigmoid', filters=32, depth=4, pool_size=(2, 2, 2), conv_per_block=2, dropouts=0.50, batch_normalization=True)"
   ]
  },
  {
   "cell_type": "code",
   "execution_count": 6,
   "metadata": {},
   "outputs": [],
   "source": [
    "UNET3D_2 = UNet3D.UNet(input_shape=(256, 256, 16, 1), output_classes=9, output_activation='sigmoid', filters=32, depth=3, pool_size=(2, 2, 2), conv_per_block=2, dropouts=0.50, batch_normalization=True)"
   ]
  },
  {
   "cell_type": "code",
   "execution_count": 7,
   "metadata": {},
   "outputs": [
    {
     "name": "stdout",
     "output_type": "stream",
     "text": [
      "(None, 256, 256, 1)\n",
      "(None, 256, 256, 9)\n",
      "31,054,665\n",
      "0.453\n",
      "(None, 256, 256, 8, 1)\n",
      "(None, 256, 256, 8, 9)\n",
      "5,841,929\n",
      "1.123\n",
      "(None, 256, 256, 16, 1)\n",
      "(None, 256, 256, 16, 9)\n",
      "1,414,409\n",
      "2.134\n"
     ]
    }
   ],
   "source": [
    "model_info(UNET2D_1)\n",
    "model_memory_usage(1, UNET2D_1)\n",
    "model_info(UNET3D_1)\n",
    "model_memory_usage(1, UNET3D_1)\n",
    "model_info(UNET3D_2)\n",
    "model_memory_usage(1, UNET3D_2)"
   ]
  },
  {
   "cell_type": "markdown",
   "metadata": {},
   "source": [
    "### UNet"
   ]
  },
  {
   "cell_type": "code",
   "execution_count": 8,
   "metadata": {},
   "outputs": [],
   "source": [
    "UN_1 = UNet.UNet(input_shape=(256, 256, 3), output_classes=4, filters=64, depth=5, conv_per_block=2, padding='same', dropouts=0.50, batch_normalization=True)\n",
    "UN_2 = UNet.UNet(input_shape=(572, 572, 3), output_classes=4, filters=64, depth=5, conv_per_block=2, padding='valid', dropouts=[0.10, 0.10, 0.10, 0.20, 0.50, 0.20, 0.10, 0.10, 0.10], batch_normalization=True)\n",
    "UN_3 = UNet.UNet(input_shape=(256, 256, 3), output_classes=4, filters=32, depth=5, conv_per_block=2, padding='same', dropouts=0.50, batch_normalization=False)\n",
    "UN_4 = UNet.UNet(input_shape=(256, 256, 2), output_classes=4, filters=64, depth=5, conv_per_block=2, padding='same', dropouts=0.50, batch_normalization=True, groups=1)\n",
    "UN_5 = UNet.UNet(input_shape=(256, 256, 2), output_classes=4, filters=64, depth=5, conv_per_block=2, padding='same', dropouts=0.50, batch_normalization=True, groups=2)"
   ]
  },
  {
   "cell_type": "code",
   "execution_count": 9,
   "metadata": {},
   "outputs": [
    {
     "name": "stdout",
     "output_type": "stream",
     "text": [
      "(None, 256, 256, 3)\n",
      "(None, 256, 256, 4)\n",
      "31,055,492\n"
     ]
    }
   ],
   "source": [
    "model_info(UN_1)"
   ]
  },
  {
   "cell_type": "code",
   "execution_count": 10,
   "metadata": {},
   "outputs": [
    {
     "name": "stdout",
     "output_type": "stream",
     "text": [
      "(None, 572, 572, 3)\n",
      "(None, 388, 388, 4)\n",
      "31,055,492\n"
     ]
    }
   ],
   "source": [
    "model_info(UN_2)"
   ]
  },
  {
   "cell_type": "code",
   "execution_count": 11,
   "metadata": {},
   "outputs": [
    {
     "name": "stdout",
     "output_type": "stream",
     "text": [
      "(None, 256, 256, 3)\n",
      "(None, 256, 256, 4)\n",
      "7,760,196\n"
     ]
    }
   ],
   "source": [
    "model_info(UN_3)"
   ]
  },
  {
   "cell_type": "code",
   "execution_count": 12,
   "metadata": {},
   "outputs": [
    {
     "name": "stdout",
     "output_type": "stream",
     "text": [
      "(None, 256, 256, 2)\n",
      "(None, 256, 256, 4)\n",
      "31,054,916\n",
      "(None, 256, 256, 2)\n",
      "(None, 256, 256, 4)\n",
      "31,035,908\n"
     ]
    }
   ],
   "source": [
    "model_info(UN_4)\n",
    "model_info(UN_5)"
   ]
  },
  {
   "cell_type": "markdown",
   "metadata": {},
   "source": [
    "### UNet3D"
   ]
  },
  {
   "cell_type": "code",
   "execution_count": 13,
   "metadata": {},
   "outputs": [],
   "source": [
    "UN3D_1 = UNet3D.UNet(input_shape=(64, 64, 64, 1), output_classes=9, output_activation='sigmoid', filters=32, depth=4, pool_size=(2, 2, 2), conv_per_block=2, dropouts=0.50, batch_normalization=True)\n",
    "UN3D_2 = UNet3D.UNet(input_shape=(256, 256, 32, 1), output_classes=9, output_activation='sigmoid', filters=32, depth=4, pool_size=(2, 2, 2), conv_per_block=2, dropouts=0.50, batch_normalization=True)\n",
    "UN3D_3 = UNet3D.UNet(input_shape=(256, 256, 4, 1), output_classes=9, output_activation='sigmoid', filters=32, depth=4, pool_size=[(2, 2, 2), (2, 2, 1), (2, 2, 1), None, (2, 2, 1), (2, 2, 1), (2, 2, 2)], conv_per_block=2, dropouts=0.50, batch_normalization=True)\n",
    "UN3D_4 = UNet3D.UNet(input_shape=(256, 256, 5, 1), output_classes=9, output_activation='sigmoid', filters=64, depth=4, pool_size=(2, 2, 1), conv_per_block=2, dropouts=[0.10, 0.10, 0.20, 0.50, 0.20, 0.10, 0.10], batch_normalization=True)\n",
    "UN3D_5 = UNet3D.UNet(input_shape=(256, 256, 16, 1), output_classes=9, output_activation='sigmoid', filters=32, depth=4, pool_size=(2, 2, 2), conv_per_block=2, dropouts=0.50, batch_normalization=True)"
   ]
  },
  {
   "cell_type": "code",
   "execution_count": 14,
   "metadata": {},
   "outputs": [
    {
     "name": "stdout",
     "output_type": "stream",
     "text": [
      "(None, 64, 64, 64, 1)\n",
      "(None, 64, 64, 64, 9)\n",
      "5,841,929\n",
      "(None, 256, 256, 32, 1)\n",
      "(None, 256, 256, 32, 9)\n",
      "5,841,929\n",
      "(None, 256, 256, 4, 1)\n",
      "(None, 256, 256, 4, 9)\n",
      "5,841,929\n",
      "(None, 256, 256, 5, 1)\n",
      "(None, 256, 256, 5, 9)\n",
      "23,351,305\n",
      "(None, 256, 256, 16, 1)\n",
      "(None, 256, 256, 16, 9)\n",
      "5,841,929\n"
     ]
    }
   ],
   "source": [
    "model_info(UN3D_1)\n",
    "model_info(UN3D_2)\n",
    "model_info(UN3D_3)\n",
    "model_info(UN3D_4)\n",
    "model_info(UN3D_5)"
   ]
  },
  {
   "cell_type": "markdown",
   "metadata": {},
   "source": [
    "### EfficientUNet"
   ]
  },
  {
   "cell_type": "code",
   "execution_count": 15,
   "metadata": {},
   "outputs": [],
   "source": [
    "EfficientNetB0 = tf.keras.applications.EfficientNetB0(\n",
    "    include_top=None,\n",
    "    weights=None,\n",
    "    input_tensor=None,\n",
    "    input_shape=(256, 256, 3),\n",
    "    pooling=None,\n",
    "    classes=None,\n",
    "    classifier_activation=None\n",
    "    )\n",
    "\n",
    "EUNB0_1 = EfficientUNet.EfficientUNetB0((256, 256, 1), 2, weight_name=None)\n",
    "EUNB0_2 = EfficientUNet.EfficientUNetB0((256, 256, 3), 6, weight_name=None)\n",
    "EUNB0_3 = EfficientUNet.EfficientUNetB0((256, 256, 10), 32, weight_name=None)\n",
    "\n",
    "EUNB0 = EfficientUNet.EfficientUNetB0((256, 256, 3), 4, weight_name=None)\n",
    "EUNB1 = EfficientUNet.EfficientUNetB1((256, 256, 3), 4, weight_name=None)\n",
    "EUNB2 = EfficientUNet.EfficientUNetB2((256, 256, 3), 4, weight_name=None)\n",
    "EUNB3 = EfficientUNet.EfficientUNetB3((256, 256, 3), 4, weight_name=None)\n",
    "EUNB4 = EfficientUNet.EfficientUNetB4((256, 256, 3), 4, weight_name=None)\n",
    "EUNB5 = EfficientUNet.EfficientUNetB5((256, 256, 3), 4, weight_name=None)\n",
    "EUNB6 = EfficientUNet.EfficientUNetB6((256, 256, 3), 4, weight_name=None)\n",
    "EUNB7 = EfficientUNet.EfficientUNetB7((256, 256, 3), 4, weight_name=None)"
   ]
  },
  {
   "cell_type": "code",
   "execution_count": 16,
   "metadata": {},
   "outputs": [
    {
     "name": "stdout",
     "output_type": "stream",
     "text": [
      "(None, 256, 256, 3)\n",
      "(None, 8, 8, 1280)\n",
      "4,049,571\n"
     ]
    }
   ],
   "source": [
    "model_info(EfficientNetB0)"
   ]
  },
  {
   "cell_type": "code",
   "execution_count": 17,
   "metadata": {},
   "outputs": [
    {
     "name": "stdout",
     "output_type": "stream",
     "text": [
      "(None, 256, 256, 1)\n",
      "(None, 256, 256, 2)\n",
      "15,390,283\n"
     ]
    }
   ],
   "source": [
    "model_info(EUNB0_1)"
   ]
  },
  {
   "cell_type": "code",
   "execution_count": 18,
   "metadata": {},
   "outputs": [
    {
     "name": "stdout",
     "output_type": "stream",
     "text": [
      "(None, 256, 256, 3)\n",
      "(None, 256, 256, 6)\n",
      "15,390,409\n"
     ]
    }
   ],
   "source": [
    "model_info(EUNB0_2)"
   ]
  },
  {
   "cell_type": "code",
   "execution_count": 19,
   "metadata": {},
   "outputs": [
    {
     "name": "stdout",
     "output_type": "stream",
     "text": [
      "(None, 256, 256, 10)\n",
      "(None, 256, 256, 32)\n",
      "15,391,300\n"
     ]
    }
   ],
   "source": [
    "model_info(EUNB0_3)"
   ]
  },
  {
   "cell_type": "code",
   "execution_count": 20,
   "metadata": {},
   "outputs": [
    {
     "name": "stdout",
     "output_type": "stream",
     "text": [
      "(None, 256, 256, 3)\n",
      "(None, 256, 256, 4)\n",
      "15,390,343\n"
     ]
    }
   ],
   "source": [
    "model_info(EUNB0)"
   ]
  },
  {
   "cell_type": "code",
   "execution_count": 21,
   "metadata": {},
   "outputs": [
    {
     "name": "stdout",
     "output_type": "stream",
     "text": [
      "(None, 256, 256, 3)\n",
      "(None, 256, 256, 4)\n",
      "17,916,011\n"
     ]
    }
   ],
   "source": [
    "model_info(EUNB1)"
   ]
  },
  {
   "cell_type": "code",
   "execution_count": 22,
   "metadata": {},
   "outputs": [
    {
     "name": "stdout",
     "output_type": "stream",
     "text": [
      "(None, 256, 256, 3)\n",
      "(None, 256, 256, 4)\n",
      "20,030,941\n"
     ]
    }
   ],
   "source": [
    "model_info(EUNB2)"
   ]
  },
  {
   "cell_type": "code",
   "execution_count": 23,
   "metadata": {},
   "outputs": [
    {
     "name": "stdout",
     "output_type": "stream",
     "text": [
      "(None, 256, 256, 3)\n",
      "(None, 256, 256, 4)\n",
      "24,161,043\n"
     ]
    }
   ],
   "source": [
    "model_info(EUNB3)"
   ]
  },
  {
   "cell_type": "code",
   "execution_count": 24,
   "metadata": {},
   "outputs": [
    {
     "name": "stdout",
     "output_type": "stream",
     "text": [
      "(None, 256, 256, 3)\n",
      "(None, 256, 256, 4)\n",
      "33,005,123\n"
     ]
    }
   ],
   "source": [
    "model_info(EUNB4)"
   ]
  },
  {
   "cell_type": "code",
   "execution_count": 25,
   "metadata": {},
   "outputs": [
    {
     "name": "stdout",
     "output_type": "stream",
     "text": [
      "(None, 256, 256, 3)\n",
      "(None, 256, 256, 4)\n",
      "45,632,731\n"
     ]
    }
   ],
   "source": [
    "model_info(EUNB5)"
   ]
  },
  {
   "cell_type": "code",
   "execution_count": 26,
   "metadata": {},
   "outputs": [
    {
     "name": "stdout",
     "output_type": "stream",
     "text": [
      "(None, 256, 256, 3)\n",
      "(None, 256, 256, 4)\n",
      "60,060,787\n"
     ]
    }
   ],
   "source": [
    "model_info(EUNB6)"
   ]
  },
  {
   "cell_type": "code",
   "execution_count": 27,
   "metadata": {},
   "outputs": [
    {
     "name": "stdout",
     "output_type": "stream",
     "text": [
      "(None, 256, 256, 3)\n",
      "(None, 256, 256, 4)\n",
      "85,207,419\n"
     ]
    }
   ],
   "source": [
    "model_info(EUNB7)"
   ]
  }
 ],
 "metadata": {
  "kernelspec": {
   "display_name": "venv_tf230",
   "language": "python",
   "name": "venv_tf230"
  },
  "language_info": {
   "codemirror_mode": {
    "name": "ipython",
    "version": 3
   },
   "file_extension": ".py",
   "mimetype": "text/x-python",
   "name": "python",
   "nbconvert_exporter": "python",
   "pygments_lexer": "ipython3",
   "version": "3.6.9"
  }
 },
 "nbformat": 4,
 "nbformat_minor": 4
}
