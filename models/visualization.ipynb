{
 "cells": [
  {
   "cell_type": "code",
   "execution_count": 1,
   "metadata": {},
   "outputs": [],
   "source": [
    "import tensorflow as tf"
   ]
  },
  {
   "cell_type": "code",
   "execution_count": 2,
   "metadata": {},
   "outputs": [
    {
     "data": {
      "text/plain": [
       "'2.3.0'"
      ]
     },
     "execution_count": 2,
     "metadata": {},
     "output_type": "execute_result"
    }
   ],
   "source": [
    "tf.__version__"
   ]
  },
  {
   "cell_type": "markdown",
   "metadata": {},
   "source": [
    "### Short model information"
   ]
  },
  {
   "cell_type": "code",
   "execution_count": 3,
   "metadata": {},
   "outputs": [],
   "source": [
    "def model_info(model):\n",
    "    print(model.input_shape)\n",
    "    print(model.output_shape)\n",
    "    params = model.count_params()\n",
    "    print(f\"{params:,}\")"
   ]
  },
  {
   "cell_type": "markdown",
   "metadata": {},
   "source": [
    "### UNet"
   ]
  },
  {
   "cell_type": "code",
   "execution_count": 4,
   "metadata": {},
   "outputs": [],
   "source": [
    "import UNet"
   ]
  },
  {
   "cell_type": "code",
   "execution_count": 5,
   "metadata": {},
   "outputs": [],
   "source": [
    "UN_1 = UNet.UNet(input_shape=(256, 256, 3), output_classes=4, filters=64, depth=5, conv_per_block=2, padding='same', dropouts=0.50, batch_normalization=True)\n",
    "UN_2 = UNet.UNet(input_shape=(572, 572, 3), output_classes=4, filters=64, depth=5, conv_per_block=2, padding='valid', dropouts=[0.10, 0.10, 0.10, 0.20, 0.50, 0.20, 0.10, 0.10, 0.10], batch_normalization=True)\n",
    "UN_3 = UNet.UNet(input_shape=(256, 256, 3), output_classes=4, filters=32, depth=5, conv_per_block=2, padding='same', dropouts=0.50, batch_normalization=False)"
   ]
  },
  {
   "cell_type": "code",
   "execution_count": 6,
   "metadata": {},
   "outputs": [
    {
     "name": "stdout",
     "output_type": "stream",
     "text": [
      "(None, 256, 256, 3)\n",
      "(None, 256, 256, 4)\n",
      "31,055,492\n"
     ]
    }
   ],
   "source": [
    "model_info(UN_1)"
   ]
  },
  {
   "cell_type": "code",
   "execution_count": 7,
   "metadata": {},
   "outputs": [
    {
     "name": "stdout",
     "output_type": "stream",
     "text": [
      "(None, 572, 572, 3)\n",
      "(None, 388, 388, 4)\n",
      "31,055,492\n"
     ]
    }
   ],
   "source": [
    "model_info(UN_2)"
   ]
  },
  {
   "cell_type": "code",
   "execution_count": 8,
   "metadata": {},
   "outputs": [
    {
     "name": "stdout",
     "output_type": "stream",
     "text": [
      "(None, 256, 256, 3)\n",
      "(None, 256, 256, 4)\n",
      "7,760,196\n"
     ]
    }
   ],
   "source": [
    "model_info(UN_3)"
   ]
  },
  {
   "cell_type": "markdown",
   "metadata": {},
   "source": [
    "### EfficientUNet"
   ]
  },
  {
   "cell_type": "code",
   "execution_count": 9,
   "metadata": {},
   "outputs": [],
   "source": [
    "import EfficientUNet"
   ]
  },
  {
   "cell_type": "code",
   "execution_count": 10,
   "metadata": {},
   "outputs": [],
   "source": [
    "EfficientNetB0 = tf.keras.applications.EfficientNetB0(\n",
    "    include_top=None,\n",
    "    weights=None,\n",
    "    input_tensor=None,\n",
    "    input_shape=(256, 256, 3),\n",
    "    pooling=None,\n",
    "    classes=None,\n",
    "    classifier_activation=None\n",
    "    )\n",
    "\n",
    "EUNB0_1 = EfficientUNet.EfficientUNetB0((256, 256, 1), 2, weight_name=None)\n",
    "EUNB0_2 = EfficientUNet.EfficientUNetB0((256, 256, 3), 6, weight_name=None)\n",
    "EUNB0_3 = EfficientUNet.EfficientUNetB0((256, 256, 10), 32, weight_name=None)\n",
    "\n",
    "EUNB0 = EfficientUNet.EfficientUNetB0((256, 256, 3), 4, weight_name=None)\n",
    "EUNB1 = EfficientUNet.EfficientUNetB1((256, 256, 3), 4, weight_name=None)\n",
    "EUNB2 = EfficientUNet.EfficientUNetB2((256, 256, 3), 4, weight_name=None)\n",
    "EUNB3 = EfficientUNet.EfficientUNetB3((256, 256, 3), 4, weight_name=None)\n",
    "EUNB4 = EfficientUNet.EfficientUNetB4((256, 256, 3), 4, weight_name=None)\n",
    "EUNB5 = EfficientUNet.EfficientUNetB5((256, 256, 3), 4, weight_name=None)\n",
    "EUNB6 = EfficientUNet.EfficientUNetB6((256, 256, 3), 4, weight_name=None)\n",
    "EUNB7 = EfficientUNet.EfficientUNetB7((256, 256, 3), 4, weight_name=None)"
   ]
  },
  {
   "cell_type": "code",
   "execution_count": 11,
   "metadata": {},
   "outputs": [
    {
     "name": "stdout",
     "output_type": "stream",
     "text": [
      "(None, 256, 256, 3)\n",
      "(None, 8, 8, 1280)\n",
      "4,049,571\n"
     ]
    }
   ],
   "source": [
    "model_info(EfficientNetB0)"
   ]
  },
  {
   "cell_type": "code",
   "execution_count": 12,
   "metadata": {},
   "outputs": [
    {
     "name": "stdout",
     "output_type": "stream",
     "text": [
      "(None, 256, 256, 1)\n",
      "(None, 256, 256, 2)\n",
      "5,489,451\n"
     ]
    }
   ],
   "source": [
    "model_info(EUNB0_1)"
   ]
  },
  {
   "cell_type": "code",
   "execution_count": 13,
   "metadata": {},
   "outputs": [
    {
     "name": "stdout",
     "output_type": "stream",
     "text": [
      "(None, 256, 256, 3)\n",
      "(None, 256, 256, 6)\n",
      "5,489,705\n"
     ]
    }
   ],
   "source": [
    "model_info(EUNB0_2)"
   ]
  },
  {
   "cell_type": "code",
   "execution_count": 14,
   "metadata": {},
   "outputs": [
    {
     "name": "stdout",
     "output_type": "stream",
     "text": [
      "(None, 256, 256, 10)\n",
      "(None, 256, 256, 32)\n",
      "5,491,428\n"
     ]
    }
   ],
   "source": [
    "model_info(EUNB0_3)"
   ]
  },
  {
   "cell_type": "code",
   "execution_count": 15,
   "metadata": {},
   "outputs": [
    {
     "name": "stdout",
     "output_type": "stream",
     "text": [
      "(None, 256, 256, 3)\n",
      "(None, 256, 256, 4)\n",
      "5,489,575\n"
     ]
    }
   ],
   "source": [
    "model_info(EUNB0)"
   ]
  },
  {
   "cell_type": "code",
   "execution_count": 16,
   "metadata": {},
   "outputs": [
    {
     "name": "stdout",
     "output_type": "stream",
     "text": [
      "(None, 256, 256, 3)\n",
      "(None, 256, 256, 4)\n",
      "8,015,243\n"
     ]
    }
   ],
   "source": [
    "model_info(EUNB1)"
   ]
  },
  {
   "cell_type": "code",
   "execution_count": 17,
   "metadata": {},
   "outputs": [
    {
     "name": "stdout",
     "output_type": "stream",
     "text": [
      "(None, 256, 256, 3)\n",
      "(None, 256, 256, 4)\n",
      "9,337,597\n"
     ]
    }
   ],
   "source": [
    "model_info(EUNB2)"
   ]
  },
  {
   "cell_type": "code",
   "execution_count": 18,
   "metadata": {},
   "outputs": [
    {
     "name": "stdout",
     "output_type": "stream",
     "text": [
      "(None, 256, 256, 3)\n",
      "(None, 256, 256, 4)\n",
      "12,509,235\n"
     ]
    }
   ],
   "source": [
    "model_info(EUNB3)"
   ]
  },
  {
   "cell_type": "code",
   "execution_count": 19,
   "metadata": {},
   "outputs": [
    {
     "name": "stdout",
     "output_type": "stream",
     "text": [
      "(None, 256, 256, 3)\n",
      "(None, 256, 256, 4)\n",
      "19,629,923\n"
     ]
    }
   ],
   "source": [
    "model_info(EUNB4)"
   ]
  },
  {
   "cell_type": "code",
   "execution_count": 20,
   "metadata": {},
   "outputs": [
    {
     "name": "stdout",
     "output_type": "stream",
     "text": [
      "(None, 256, 256, 3)\n",
      "(None, 256, 256, 4)\n",
      "30,727,675\n"
     ]
    }
   ],
   "source": [
    "model_info(EUNB5)"
   ]
  },
  {
   "cell_type": "code",
   "execution_count": 21,
   "metadata": {},
   "outputs": [
    {
     "name": "stdout",
     "output_type": "stream",
     "text": [
      "(None, 256, 256, 3)\n",
      "(None, 256, 256, 4)\n",
      "43,432,339\n"
     ]
    }
   ],
   "source": [
    "model_info(EUNB6)"
   ]
  },
  {
   "cell_type": "code",
   "execution_count": 22,
   "metadata": {},
   "outputs": [
    {
     "name": "stdout",
     "output_type": "stream",
     "text": [
      "(None, 256, 256, 3)\n",
      "(None, 256, 256, 4)\n",
      "66,827,931\n"
     ]
    }
   ],
   "source": [
    "model_info(EUNB7)"
   ]
  },
  {
   "cell_type": "markdown",
   "metadata": {},
   "source": [
    "### Used models"
   ]
  },
  {
   "cell_type": "code",
   "execution_count": 23,
   "metadata": {},
   "outputs": [],
   "source": [
    "UNET = UNet.UNet(input_shape=(256, 256, 1), output_classes=4, filters=64, depth=5, conv_per_block=2, padding='same', dropouts=0.50, batch_normalization=True)"
   ]
  },
  {
   "cell_type": "code",
   "execution_count": 24,
   "metadata": {},
   "outputs": [],
   "source": [
    "EUNET = EfficientUNet.EfficientUNetB5(input_shape=(256, 256, 1), classes=4)"
   ]
  },
  {
   "cell_type": "code",
   "execution_count": 25,
   "metadata": {},
   "outputs": [
    {
     "name": "stdout",
     "output_type": "stream",
     "text": [
      "(None, 256, 256, 1)\n",
      "(None, 256, 256, 4)\n",
      "31,054,340\n",
      "(None, 256, 256, 1)\n",
      "(None, 256, 256, 4)\n",
      "30,727,681\n"
     ]
    }
   ],
   "source": [
    "model_info(UNET)\n",
    "model_info(EUNET)"
   ]
  }
 ],
 "metadata": {
  "kernelspec": {
   "display_name": "venv_tf230",
   "language": "python",
   "name": "venv_tf230"
  },
  "language_info": {
   "codemirror_mode": {
    "name": "ipython",
    "version": 3
   },
   "file_extension": ".py",
   "mimetype": "text/x-python",
   "name": "python",
   "nbconvert_exporter": "python",
   "pygments_lexer": "ipython3",
   "version": "3.6.9"
  }
 },
 "nbformat": 4,
 "nbformat_minor": 4
}
