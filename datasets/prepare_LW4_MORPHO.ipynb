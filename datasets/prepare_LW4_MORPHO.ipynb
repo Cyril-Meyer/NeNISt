{
 "cells": [
  {
   "cell_type": "code",
   "execution_count": null,
   "id": "12bfc336-b1c6-4d67-b65f-22bafbf18328",
   "metadata": {},
   "outputs": [],
   "source": [
    "try:\n",
    "    pragma_once_cd_dot_dot\n",
    "    !pwd\n",
    "except NameError:\n",
    "    pragma_once_cd_dot_dot = True\n",
    "    %cd .."
   ]
  },
  {
   "cell_type": "code",
   "execution_count": null,
   "id": "7af33ebe-992e-4949-b83d-580df99f666d",
   "metadata": {},
   "outputs": [],
   "source": [
    "import numpy as np\n",
    "import tifffile"
   ]
  },
  {
   "cell_type": "code",
   "execution_count": null,
   "id": "1779331f-66c0-40de-9c5c-c4c10abd0836",
   "metadata": {},
   "outputs": [],
   "source": [
    "def array_info(A):\n",
    "    print(A.shape, A.dtype, A.min(), A.max())"
   ]
  },
  {
   "cell_type": "code",
   "execution_count": null,
   "id": "d1d95243-76d0-4545-817e-f75cd7317c5d",
   "metadata": {},
   "outputs": [],
   "source": [
    "image = np.array(tifffile.imread(\"/home/cyril/Documents/Data/IGBMC_LW4/LW4-600.tif\"), dtype=np.uint8)"
   ]
  },
  {
   "cell_type": "raw",
   "id": "8dcf9fab-39a6-4d5f-b3c9-e93e6add73e9",
   "metadata": {},
   "source": [
    "traditional morphology operation"
   ]
  },
  {
   "cell_type": "code",
   "execution_count": null,
   "id": "44693571-c287-4d94-b240-c741f0da6bea",
   "metadata": {},
   "outputs": [],
   "source": [
    "import skimage.morphology"
   ]
  },
  {
   "cell_type": "code",
   "execution_count": null,
   "id": "b0ce0842-953e-4d1b-a0a3-0b7514086115",
   "metadata": {},
   "outputs": [],
   "source": [
    "image_e1 = skimage.morphology.erosion(image, skimage.morphology.ball(1))\n",
    "image_e2 = skimage.morphology.erosion(image, skimage.morphology.ball(2))\n",
    "image_e3 = skimage.morphology.erosion(image, skimage.morphology.ball(3))\n",
    "image_e4 = skimage.morphology.erosion(image, skimage.morphology.ball(4))\n",
    "image_e5 = skimage.morphology.erosion(image, skimage.morphology.ball(5))\n",
    "tifffile.imwrite('/home/cyril/Documents/Data/MEYER_LW4_MORPHO/image_e1.tif', image_e1, compress=6)\n",
    "tifffile.imwrite('/home/cyril/Documents/Data/MEYER_LW4_MORPHO/image_e2.tif', image_e2, compress=6)\n",
    "tifffile.imwrite('/home/cyril/Documents/Data/MEYER_LW4_MORPHO/image_e3.tif', image_e3, compress=6)\n",
    "tifffile.imwrite('/home/cyril/Documents/Data/MEYER_LW4_MORPHO/image_e4.tif', image_e4, compress=6)\n",
    "tifffile.imwrite('/home/cyril/Documents/Data/MEYER_LW4_MORPHO/image_e5.tif', image_e5, compress=6)\n",
    "del image_e1\n",
    "del image_e2\n",
    "del image_e3\n",
    "del image_e4\n",
    "del image_e5"
   ]
  },
  {
   "cell_type": "code",
   "execution_count": null,
   "id": "bbc0b389-5fe0-4318-9abc-f0a0b3d72f9b",
   "metadata": {},
   "outputs": [],
   "source": [
    "image_d1 = skimage.morphology.dilation(image, skimage.morphology.ball(1))\n",
    "image_d2 = skimage.morphology.dilation(image, skimage.morphology.ball(2))\n",
    "image_d3 = skimage.morphology.dilation(image, skimage.morphology.ball(3))\n",
    "image_d4 = skimage.morphology.dilation(image, skimage.morphology.ball(4))\n",
    "image_d5 = skimage.morphology.dilation(image, skimage.morphology.ball(5))\n",
    "tifffile.imwrite('/home/cyril/Documents/Data/MEYER_LW4_MORPHO/image_d1.tif', image_d1, compress=6)\n",
    "tifffile.imwrite('/home/cyril/Documents/Data/MEYER_LW4_MORPHO/image_d2.tif', image_d2, compress=6)\n",
    "tifffile.imwrite('/home/cyril/Documents/Data/MEYER_LW4_MORPHO/image_d3.tif', image_d3, compress=6)\n",
    "tifffile.imwrite('/home/cyril/Documents/Data/MEYER_LW4_MORPHO/image_d4.tif', image_d4, compress=6)\n",
    "tifffile.imwrite('/home/cyril/Documents/Data/MEYER_LW4_MORPHO/image_d5.tif', image_d5, compress=6)\n",
    "del image_d1\n",
    "del image_d2\n",
    "del image_d3\n",
    "del image_d4\n",
    "del image_d5"
   ]
  },
  {
   "cell_type": "code",
   "execution_count": null,
   "id": "a588fb41-4808-47a4-be0f-a4636a05f779",
   "metadata": {},
   "outputs": [],
   "source": [
    "image_c1 = skimage.morphology.closing(image, skimage.morphology.ball(1))\n",
    "image_c2 = skimage.morphology.closing(image, skimage.morphology.ball(2))\n",
    "image_c3 = skimage.morphology.closing(image, skimage.morphology.ball(3))\n",
    "image_c4 = skimage.morphology.closing(image, skimage.morphology.ball(4))\n",
    "image_c5 = skimage.morphology.closing(image, skimage.morphology.ball(5))\n",
    "tifffile.imwrite('/home/cyril/Documents/Data/MEYER_LW4_MORPHO/image_c1.tif', image_c1, compress=6)\n",
    "tifffile.imwrite('/home/cyril/Documents/Data/MEYER_LW4_MORPHO/image_c2.tif', image_c2, compress=6)\n",
    "tifffile.imwrite('/home/cyril/Documents/Data/MEYER_LW4_MORPHO/image_c3.tif', image_c3, compress=6)\n",
    "tifffile.imwrite('/home/cyril/Documents/Data/MEYER_LW4_MORPHO/image_c4.tif', image_c4, compress=6)\n",
    "tifffile.imwrite('/home/cyril/Documents/Data/MEYER_LW4_MORPHO/image_c5.tif', image_c5, compress=6)"
   ]
  },
  {
   "cell_type": "code",
   "execution_count": null,
   "id": "363ba40f-88de-4148-8a5a-4669a1b12eb2",
   "metadata": {},
   "outputs": [],
   "source": [
    "image_o1 = skimage.morphology.opening(image, skimage.morphology.ball(1))\n",
    "image_o2 = skimage.morphology.opening(image, skimage.morphology.ball(2))\n",
    "image_o3 = skimage.morphology.opening(image, skimage.morphology.ball(3))\n",
    "image_o4 = skimage.morphology.opening(image, skimage.morphology.ball(4))\n",
    "image_o5 = skimage.morphology.opening(image, skimage.morphology.ball(5))\n",
    "tifffile.imwrite('/home/cyril/Documents/Data/MEYER_LW4_MORPHO/image_o1.tif', image_o1, compress=6)\n",
    "tifffile.imwrite('/home/cyril/Documents/Data/MEYER_LW4_MORPHO/image_o2.tif', image_o2, compress=6)\n",
    "tifffile.imwrite('/home/cyril/Documents/Data/MEYER_LW4_MORPHO/image_o3.tif', image_o3, compress=6)\n",
    "tifffile.imwrite('/home/cyril/Documents/Data/MEYER_LW4_MORPHO/image_o4.tif', image_o4, compress=6)\n",
    "tifffile.imwrite('/home/cyril/Documents/Data/MEYER_LW4_MORPHO/image_o5.tif', image_o5, compress=6)"
   ]
  },
  {
   "cell_type": "code",
   "execution_count": null,
   "id": "82454cc2-4a84-4e1b-b849-68a498a4b4de",
   "metadata": {},
   "outputs": [],
   "source": [
    "image_wth1 = image - image_o1\n",
    "image_wth2 = image - image_o2\n",
    "image_wth3 = image - image_o3\n",
    "image_wth4 = image - image_o4\n",
    "image_wth5 = image - image_o5\n",
    "tifffile.imwrite('/home/cyril/Documents/Data/MEYER_LW4_MORPHO/image_wth1.tif', image_wth1, compress=6)\n",
    "tifffile.imwrite('/home/cyril/Documents/Data/MEYER_LW4_MORPHO/image_wth2.tif', image_wth2, compress=6)\n",
    "tifffile.imwrite('/home/cyril/Documents/Data/MEYER_LW4_MORPHO/image_wth3.tif', image_wth3, compress=6)\n",
    "tifffile.imwrite('/home/cyril/Documents/Data/MEYER_LW4_MORPHO/image_wth4.tif', image_wth4, compress=6)\n",
    "tifffile.imwrite('/home/cyril/Documents/Data/MEYER_LW4_MORPHO/image_wth5.tif', image_wth5, compress=6)\n",
    "del image_wth1\n",
    "del image_wth2\n",
    "del image_wth3\n",
    "del image_wth4\n",
    "del image_wth5\n",
    "del image_o1\n",
    "del image_o2\n",
    "del image_o3\n",
    "del image_o4\n",
    "del image_o5"
   ]
  },
  {
   "cell_type": "code",
   "execution_count": null,
   "id": "13d4d1a5-fae3-4b84-bb98-d6db44835adc",
   "metadata": {},
   "outputs": [],
   "source": [
    "image_bth1 = image_c1 - image\n",
    "image_bth2 = image_c2 - image\n",
    "image_bth3 = image_c3 - image\n",
    "image_bth4 = image_c4 - image\n",
    "image_bth5 = image_c5 - image\n",
    "tifffile.imwrite('/home/cyril/Documents/Data/MEYER_LW4_MORPHO/image_bth1.tif', image_bth1, compress=6)\n",
    "tifffile.imwrite('/home/cyril/Documents/Data/MEYER_LW4_MORPHO/image_bth2.tif', image_bth2, compress=6)\n",
    "tifffile.imwrite('/home/cyril/Documents/Data/MEYER_LW4_MORPHO/image_bth3.tif', image_bth3, compress=6)\n",
    "tifffile.imwrite('/home/cyril/Documents/Data/MEYER_LW4_MORPHO/image_bth4.tif', image_bth4, compress=6)\n",
    "tifffile.imwrite('/home/cyril/Documents/Data/MEYER_LW4_MORPHO/image_bth5.tif', image_bth5, compress=6)\n",
    "del image_bth1\n",
    "del image_bth2\n",
    "del image_bth3\n",
    "del image_bth4\n",
    "del image_bth5\n",
    "del image_c1\n",
    "del image_c2\n",
    "del image_c3\n",
    "del image_c4\n",
    "del image_c5"
   ]
  },
  {
   "cell_type": "code",
   "execution_count": null,
   "id": "2a32f17f-4254-4277-9455-19f6636274a1",
   "metadata": {},
   "outputs": [],
   "source": []
  }
 ],
 "metadata": {
  "kernelspec": {
   "display_name": "venv_tf230",
   "language": "python",
   "name": "venv_tf230"
  },
  "language_info": {
   "codemirror_mode": {
    "name": "ipython",
    "version": 3
   },
   "file_extension": ".py",
   "mimetype": "text/x-python",
   "name": "python",
   "nbconvert_exporter": "python",
   "pygments_lexer": "ipython3",
   "version": "3.6.9"
  }
 },
 "nbformat": 4,
 "nbformat_minor": 5
}
