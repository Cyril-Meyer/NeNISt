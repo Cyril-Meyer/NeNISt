{
 "cells": [
  {
   "cell_type": "code",
   "execution_count": null,
   "id": "22f2b3ce-0423-4e32-aff1-00eeecbac88c",
   "metadata": {},
   "outputs": [],
   "source": [
    "try:\n",
    "    pragma_once_cd_dot_dot\n",
    "    !pwd\n",
    "except NameError:\n",
    "    pragma_once_cd_dot_dot = True\n",
    "    %cd .."
   ]
  },
  {
   "cell_type": "code",
   "execution_count": null,
   "id": "f42a8ce6-b8a1-4cf9-9ce2-7b9d0e29ab91",
   "metadata": {},
   "outputs": [],
   "source": [
    "import numpy as np\n",
    "import tifffile"
   ]
  },
  {
   "cell_type": "code",
   "execution_count": null,
   "id": "12de5f94-a1fc-4741-9865-77ee74cb4fb4",
   "metadata": {},
   "outputs": [],
   "source": [
    "def array_info(A):\n",
    "    print(A.shape, A.dtype, A.min(), A.max())"
   ]
  },
  {
   "cell_type": "code",
   "execution_count": null,
   "id": "0381e181-90ee-4b50-86ee-a4af5f6e9271",
   "metadata": {},
   "outputs": [],
   "source": [
    "image = np.array(tifffile.imread(\"/home/cyril/Documents/Data/IGBMC_I3/i3.tif\"), dtype=np.uint8)"
   ]
  },
  {
   "cell_type": "raw",
   "id": "7d2ca7ca-84f4-46e1-9c20-5a359f134277",
   "metadata": {},
   "source": [
    "traditional morphology operation"
   ]
  },
  {
   "cell_type": "code",
   "execution_count": null,
   "id": "5afc05ce-5ef0-4dec-8d21-94cacf13f42a",
   "metadata": {},
   "outputs": [],
   "source": [
    "import skimage.morphology"
   ]
  },
  {
   "cell_type": "code",
   "execution_count": null,
   "id": "16fb3325-db66-499b-9e57-e7d38f5a1dcb",
   "metadata": {},
   "outputs": [],
   "source": [
    "image_e1 = skimage.morphology.erosion(image, skimage.morphology.ball(1))\n",
    "image_e2 = skimage.morphology.erosion(image, skimage.morphology.ball(2))\n",
    "image_e3 = skimage.morphology.erosion(image, skimage.morphology.ball(3))\n",
    "image_e4 = skimage.morphology.erosion(image, skimage.morphology.ball(4))\n",
    "image_e5 = skimage.morphology.erosion(image, skimage.morphology.ball(5))\n",
    "tifffile.imwrite('/home/cyril/Documents/Data/MEYER_I3_MORPHO/image_e1.tif', image_e1, compress=6)\n",
    "tifffile.imwrite('/home/cyril/Documents/Data/MEYER_I3_MORPHO/image_e2.tif', image_e2, compress=6)\n",
    "tifffile.imwrite('/home/cyril/Documents/Data/MEYER_I3_MORPHO/image_e3.tif', image_e3, compress=6)\n",
    "tifffile.imwrite('/home/cyril/Documents/Data/MEYER_I3_MORPHO/image_e4.tif', image_e4, compress=6)\n",
    "tifffile.imwrite('/home/cyril/Documents/Data/MEYER_I3_MORPHO/image_e5.tif', image_e5, compress=6)\n",
    "del image_e1\n",
    "del image_e2\n",
    "del image_e3\n",
    "del image_e4\n",
    "del image_e5"
   ]
  },
  {
   "cell_type": "code",
   "execution_count": null,
   "id": "fab60720-cb87-484a-9718-b0806929eacc",
   "metadata": {},
   "outputs": [],
   "source": [
    "image_d1 = skimage.morphology.dilation(image, skimage.morphology.ball(1))\n",
    "image_d2 = skimage.morphology.dilation(image, skimage.morphology.ball(2))\n",
    "image_d3 = skimage.morphology.dilation(image, skimage.morphology.ball(3))\n",
    "image_d4 = skimage.morphology.dilation(image, skimage.morphology.ball(4))\n",
    "image_d5 = skimage.morphology.dilation(image, skimage.morphology.ball(5))\n",
    "tifffile.imwrite('/home/cyril/Documents/Data/MEYER_I3_MORPHO/image_d1.tif', image_d1, compress=6)\n",
    "tifffile.imwrite('/home/cyril/Documents/Data/MEYER_I3_MORPHO/image_d2.tif', image_d2, compress=6)\n",
    "tifffile.imwrite('/home/cyril/Documents/Data/MEYER_I3_MORPHO/image_d3.tif', image_d3, compress=6)\n",
    "tifffile.imwrite('/home/cyril/Documents/Data/MEYER_I3_MORPHO/image_d4.tif', image_d4, compress=6)\n",
    "tifffile.imwrite('/home/cyril/Documents/Data/MEYER_I3_MORPHO/image_d5.tif', image_d5, compress=6)\n",
    "del image_d1\n",
    "del image_d2\n",
    "del image_d3\n",
    "del image_d4\n",
    "del image_d5"
   ]
  },
  {
   "cell_type": "code",
   "execution_count": null,
   "id": "81822278-4472-4ae6-8fc9-5b70e1d83b29",
   "metadata": {},
   "outputs": [],
   "source": [
    "image_c1 = skimage.morphology.closing(image, skimage.morphology.ball(1))\n",
    "image_c2 = skimage.morphology.closing(image, skimage.morphology.ball(2))\n",
    "image_c3 = skimage.morphology.closing(image, skimage.morphology.ball(3))\n",
    "image_c4 = skimage.morphology.closing(image, skimage.morphology.ball(4))\n",
    "image_c5 = skimage.morphology.closing(image, skimage.morphology.ball(5))\n",
    "tifffile.imwrite('/home/cyril/Documents/Data/MEYER_I3_MORPHO/image_c1.tif', image_c1, compress=6)\n",
    "tifffile.imwrite('/home/cyril/Documents/Data/MEYER_I3_MORPHO/image_c2.tif', image_c2, compress=6)\n",
    "tifffile.imwrite('/home/cyril/Documents/Data/MEYER_I3_MORPHO/image_c3.tif', image_c3, compress=6)\n",
    "tifffile.imwrite('/home/cyril/Documents/Data/MEYER_I3_MORPHO/image_c4.tif', image_c4, compress=6)\n",
    "tifffile.imwrite('/home/cyril/Documents/Data/MEYER_I3_MORPHO/image_c5.tif', image_c5, compress=6)"
   ]
  },
  {
   "cell_type": "code",
   "execution_count": null,
   "id": "8f8d9fc9-dbf4-4b6b-a885-af29b976bcff",
   "metadata": {},
   "outputs": [],
   "source": [
    "image_o1 = skimage.morphology.opening(image, skimage.morphology.ball(1))\n",
    "image_o2 = skimage.morphology.opening(image, skimage.morphology.ball(2))\n",
    "image_o3 = skimage.morphology.opening(image, skimage.morphology.ball(3))\n",
    "image_o4 = skimage.morphology.opening(image, skimage.morphology.ball(4))\n",
    "image_o5 = skimage.morphology.opening(image, skimage.morphology.ball(5))\n",
    "tifffile.imwrite('/home/cyril/Documents/Data/MEYER_I3_MORPHO/image_o1.tif', image_o1, compress=6)\n",
    "tifffile.imwrite('/home/cyril/Documents/Data/MEYER_I3_MORPHO/image_o2.tif', image_o2, compress=6)\n",
    "tifffile.imwrite('/home/cyril/Documents/Data/MEYER_I3_MORPHO/image_o3.tif', image_o3, compress=6)\n",
    "tifffile.imwrite('/home/cyril/Documents/Data/MEYER_I3_MORPHO/image_o4.tif', image_o4, compress=6)\n",
    "tifffile.imwrite('/home/cyril/Documents/Data/MEYER_I3_MORPHO/image_o5.tif', image_o5, compress=6)"
   ]
  },
  {
   "cell_type": "code",
   "execution_count": null,
   "id": "2d848378-5b41-4746-95a6-f10da6e168df",
   "metadata": {},
   "outputs": [],
   "source": [
    "image_wth1 = image - image_o1\n",
    "image_wth2 = image - image_o2\n",
    "image_wth3 = image - image_o3\n",
    "image_wth4 = image - image_o4\n",
    "image_wth5 = image - image_o5\n",
    "tifffile.imwrite('/home/cyril/Documents/Data/MEYER_I3_MORPHO/image_wth1.tif', image_wth1, compress=6)\n",
    "tifffile.imwrite('/home/cyril/Documents/Data/MEYER_I3_MORPHO/image_wth2.tif', image_wth2, compress=6)\n",
    "tifffile.imwrite('/home/cyril/Documents/Data/MEYER_I3_MORPHO/image_wth3.tif', image_wth3, compress=6)\n",
    "tifffile.imwrite('/home/cyril/Documents/Data/MEYER_I3_MORPHO/image_wth4.tif', image_wth4, compress=6)\n",
    "tifffile.imwrite('/home/cyril/Documents/Data/MEYER_I3_MORPHO/image_wth5.tif', image_wth5, compress=6)\n",
    "del image_wth1\n",
    "del image_wth2\n",
    "del image_wth3\n",
    "del image_wth4\n",
    "del image_wth5\n",
    "del image_o1\n",
    "del image_o2\n",
    "del image_o3\n",
    "del image_o4\n",
    "del image_o5"
   ]
  },
  {
   "cell_type": "code",
   "execution_count": null,
   "id": "cd9e6d86-76df-402a-80a0-6f6a7ac4aa1f",
   "metadata": {},
   "outputs": [],
   "source": [
    "image_bth1 = image_c1 - image\n",
    "image_bth2 = image_c2 - image\n",
    "image_bth3 = image_c3 - image\n",
    "image_bth4 = image_c4 - image\n",
    "image_bth5 = image_c5 - image\n",
    "tifffile.imwrite('/home/cyril/Documents/Data/MEYER_I3_MORPHO/image_bth1.tif', image_bth1, compress=6)\n",
    "tifffile.imwrite('/home/cyril/Documents/Data/MEYER_I3_MORPHO/image_bth2.tif', image_bth2, compress=6)\n",
    "tifffile.imwrite('/home/cyril/Documents/Data/MEYER_I3_MORPHO/image_bth3.tif', image_bth3, compress=6)\n",
    "tifffile.imwrite('/home/cyril/Documents/Data/MEYER_I3_MORPHO/image_bth4.tif', image_bth4, compress=6)\n",
    "tifffile.imwrite('/home/cyril/Documents/Data/MEYER_I3_MORPHO/image_bth5.tif', image_bth5, compress=6)\n",
    "del image_bth1\n",
    "del image_bth2\n",
    "del image_bth3\n",
    "del image_bth4\n",
    "del image_bth5\n",
    "del image_c1\n",
    "del image_c2\n",
    "del image_c3\n",
    "del image_c4\n",
    "del image_c5"
   ]
  },
  {
   "cell_type": "code",
   "execution_count": null,
   "id": "63765978-deca-4312-b86d-2d5f3a421aba",
   "metadata": {},
   "outputs": [],
   "source": []
  }
 ],
 "metadata": {
  "kernelspec": {
   "display_name": "venv_tf230",
   "language": "python",
   "name": "venv_tf230"
  },
  "language_info": {
   "codemirror_mode": {
    "name": "ipython",
    "version": 3
   },
   "file_extension": ".py",
   "mimetype": "text/x-python",
   "name": "python",
   "nbconvert_exporter": "python",
   "pygments_lexer": "ipython3",
   "version": "3.6.9"
  }
 },
 "nbformat": 4,
 "nbformat_minor": 5
}
