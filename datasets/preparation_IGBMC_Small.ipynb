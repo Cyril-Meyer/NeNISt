{
 "cells": [
  {
   "cell_type": "code",
   "execution_count": null,
   "metadata": {},
   "outputs": [],
   "source": [
    "import os\n",
    "import sys\n",
    "\n",
    "import numpy as np\n",
    "import skimage\n",
    "from skimage import io\n",
    "\n",
    "from distance_transform import *\n",
    "\n",
    "ANISOTROPY_I3 = (20, 5, 5)\n",
    "ANISOTROPY_LW4 = (15, 7.5, 7.5)\n",
    "NORMALIZE = normalize_tanh\n",
    "NORMALIZE_SCALE = 20\n",
    "\n",
    "PATH_IN_I3 = \"/home/cyril/Documents/Data/I3/\"\n",
    "PATH_IN_LW4 = \"/home/cyril/Documents/Data/LW4/\"\n",
    "PATH_OUT = \"/HDD1/data/IGBMC_Small/\""
   ]
  },
  {
   "cell_type": "code",
   "execution_count": null,
   "metadata": {},
   "outputs": [],
   "source": [
    "image_i3 = skimage.io.imread(PATH_IN_I3 + \"i3.tif\")\n",
    "label_i3_1 = np.array(skimage.io.imread(PATH_IN_I3 + \"Labels_i3-mitos_1-500.tif\"))\n",
    "label_i3_2 = np.array(skimage.io.imread(PATH_IN_I3 + \"Labels_i3_Reticulum_172-251.tif\"))"
   ]
  },
  {
   "cell_type": "code",
   "execution_count": null,
   "metadata": {},
   "outputs": [],
   "source": [
    "image_lw4 = skimage.io.imread(PATH_IN_LW4 + \"LW4-600.tif\")\n",
    "label_lw4_1 = np.array(skimage.io.imread(PATH_IN_LW4 + \"Labels_LW4-600_All-Step40_mito.tif\"))\n",
    "label_lw4_2 = np.array(skimage.io.imread(PATH_IN_LW4 + \"Labels_LW4-600_1-40_81-120_Reti.tif\"))"
   ]
  },
  {
   "cell_type": "code",
   "execution_count": null,
   "metadata": {},
   "outputs": [],
   "source": [
    "# preselection\n",
    "image_i3 = image_i3[0:300]\n",
    "label_i3_1 = label_i3_1 [0:300]\n",
    "label_i3_2 = label_i3_2[0:300]\n",
    "\n",
    "image_lw4 = image_lw4[0:300]\n",
    "label_lw4_1 = label_lw4_1[0:300]\n",
    "label_lw4_2 = label_lw4_2[0:300]"
   ]
  },
  {
   "cell_type": "code",
   "execution_count": null,
   "metadata": {},
   "outputs": [],
   "source": [
    "# Normalize\n",
    "def normalize(image):\n",
    "    image_min = image.min()\n",
    "    image_max = image.max()\n",
    "    image_normalized_f32 = np.array((image - image_min) / (image_max - image_min)).astype(np.float32)\n",
    "\n",
    "    if image_normalized_f32.min() != 0 or image_normalized_f32.max() != 1:\n",
    "        print(\"ERROR, INVALID NORMALIZATION\")\n",
    "    return image_normalized_f32\n",
    "\n",
    "image_i3 = normalize(image_i3)\n",
    "image_lw4 = normalize(image_lw4)"
   ]
  },
  {
   "cell_type": "code",
   "execution_count": null,
   "metadata": {},
   "outputs": [],
   "source": [
    "# Label binarization\n",
    "label_i3_1 = ((label_i3_1 > 0)*1.0).astype(np.uint8)\n",
    "label_i3_2 = ((label_i3_2 > 0)*1.0).astype(np.uint8)\n",
    "label_lw4_1 = ((label_lw4_1 > 0)*1.0).astype(np.uint8)\n",
    "label_lw4_2 = ((label_lw4_2 > 0)*1.0).astype(np.uint8)"
   ]
  },
  {
   "cell_type": "code",
   "execution_count": null,
   "metadata": {},
   "outputs": [],
   "source": [
    "# Distance transform label\n",
    "label_i3_1_dt = label_dt_f16(label_i3_1.astype(np.float32), ANISOTROPY_I3, NORMALIZE, NORMALIZE_SCALE, NORMALIZE_SCALE)\n",
    "label_i3_2_dt = label_dt_f16(label_i3_2.astype(np.float32), ANISOTROPY_I3, NORMALIZE, NORMALIZE_SCALE, NORMALIZE_SCALE)\n",
    "label_lw4_1_dt = label_dt_f16(label_lw4_1.astype(np.float32), ANISOTROPY_LW4, NORMALIZE, NORMALIZE_SCALE, NORMALIZE_SCALE)\n",
    "label_lw4_2_dt = label_dt_f16(label_lw4_2.astype(np.float32), ANISOTROPY_LW4, NORMALIZE, NORMALIZE_SCALE, NORMALIZE_SCALE)"
   ]
  },
  {
   "cell_type": "code",
   "execution_count": null,
   "metadata": {},
   "outputs": [],
   "source": [
    "# I3 selection for reticulum and multi\n",
    "image_i3_multi = image_i3[171:251, 150:150+1280, 850:850+1536]\n",
    "label_i3_1_multi = label_i3_1[171:251, 150:150+1280, 850:850+1536]\n",
    "label_i3_2_multi = label_i3_2[171:251, 150:150+1280, 850:850+1536]\n",
    "label_i3_1_dt_multi = label_i3_1_dt[171:251, 150:150+1280, 850:850+1536]\n",
    "label_i3_2_dt_multi = label_i3_2_dt[171:251, 150:150+1280, 850:850+1536]\n",
    "print(image_i3_multi.shape)\n",
    "print(image_i3_multi.shape == label_i3_1_multi.shape == label_i3_2_multi.shape == label_i3_1_dt_multi.shape == label_i3_2_dt_multi.shape)\n",
    "# I3 selection for mitochondria\n",
    "# image_i3_bin_1 = image_i3[0:300, 150:150+1280, 850:850+1536]\n",
    "# label_i3_bin_1 = label_i3_1[0:300, 150:150+1280, 850:850+1536]"
   ]
  },
  {
   "cell_type": "code",
   "execution_count": null,
   "metadata": {},
   "outputs": [],
   "source": [
    "# LW4 selection for reticulum and multi\n",
    "image_lw4_multi = np.concatenate([image_lw4[0:40, 0:0+1280, 250:250+1536], image_lw4[80:80+40, 0:0+1280, 250:250+1536]], axis=0)\n",
    "label_lw4_1_multi = np.concatenate([label_lw4_1[0:40, 0:0+1280, 250:250+1536], label_lw4_1[80:80+40, 0:0+1280, 250:250+1536]], axis=0)\n",
    "label_lw4_2_multi = np.concatenate([label_lw4_2[0:40, 0:0+1280, 250:250+1536], label_lw4_2[80:80+40, 0:0+1280, 250:250+1536]], axis=0)\n",
    "label_lw4_1_dt_multi = np.concatenate([label_lw4_1_dt[0:40, 0:0+1280, 250:250+1536], label_lw4_1_dt[80:80+40, 0:0+1280, 250:250+1536]], axis=0)\n",
    "label_lw4_2_dt_multi = np.concatenate([label_lw4_2_dt[0:40, 0:0+1280, 250:250+1536], label_lw4_2_dt[80:80+40, 0:0+1280, 250:250+1536]], axis=0)\n",
    "print(image_lw4_multi.shape)\n",
    "print(image_lw4_multi.shape == label_lw4_1_multi.shape == label_lw4_2_multi.shape == label_lw4_1_dt_multi.shape == label_lw4_2_dt_multi.shape)"
   ]
  },
  {
   "cell_type": "code",
   "execution_count": null,
   "metadata": {},
   "outputs": [],
   "source": [
    "np.save(PATH_OUT + \"I3_MULTI_IMAGE.npy\", image_i3_multi)\n",
    "np.save(PATH_OUT + \"I3_MULTI_LABEL_MITO.npy\", label_i3_1_multi)\n",
    "np.save(PATH_OUT + \"I3_MULTI_LABEL_RETI.npy\", label_i3_2_multi)\n",
    "np.save(PATH_OUT + \"I3_MULTI_LABEL_MITO_DT.npy\", label_i3_1_dt_multi)\n",
    "np.save(PATH_OUT + \"I3_MULTI_LABEL_RETI_DT.npy\", label_i3_2_dt_multi)"
   ]
  },
  {
   "cell_type": "code",
   "execution_count": null,
   "metadata": {},
   "outputs": [],
   "source": [
    "np.save(PATH_OUT + \"LW4_MULTI_IMAGE.npy\", image_lw4_multi)\n",
    "np.save(PATH_OUT + \"LW4_MULTI_LABEL_MITO.npy\", label_lw4_1_multi)\n",
    "np.save(PATH_OUT + \"LW4_MULTI_LABEL_RETI.npy\", label_lw4_2_multi)\n",
    "np.save(PATH_OUT + \"LW4_MULTI_LABEL_MITO_DT.npy\", label_lw4_1_dt_multi)\n",
    "np.save(PATH_OUT + \"LW4_MULTI_LABEL_RETI_DT.npy\", label_lw4_2_dt_multi)"
   ]
  },
  {
   "cell_type": "code",
   "execution_count": null,
   "metadata": {},
   "outputs": [],
   "source": [
    "# visualization\n",
    "import matplotlib.pyplot as plt"
   ]
  },
  {
   "cell_type": "code",
   "execution_count": null,
   "metadata": {},
   "outputs": [],
   "source": [
    "print(image_i3_multi.shape)\n",
    "print(image_lw4_multi.shape)"
   ]
  },
  {
   "cell_type": "code",
   "execution_count": null,
   "metadata": {},
   "outputs": [],
   "source": [
    "plt.imshow(image_i3_multi[0, 0:1024, 0:1024], cmap=\"gray\")\n",
    "plt.show()\n",
    "plt.imshow(label_i3_1_multi[0, 0:1024, 0:1024], cmap=\"gray\")\n",
    "plt.show()\n",
    "plt.imshow(label_i3_2_multi[0, 0:1024, 0:1024], cmap=\"gray\")\n",
    "plt.show()\n",
    "plt.imshow(label_i3_1_dt_multi[0, 0:1024, 0:1024].astype(np.float32), cmap=\"gray\")\n",
    "plt.show()\n",
    "plt.imshow(label_i3_2_dt_multi[0, 0:1024, 0:1024].astype(np.float32), cmap=\"gray\")\n",
    "plt.show()"
   ]
  },
  {
   "cell_type": "code",
   "execution_count": null,
   "metadata": {},
   "outputs": [],
   "source": [
    "plt.imshow(image_lw4_multi[0, 0:1024, 0:1024], cmap=\"gray\")\n",
    "plt.show()\n",
    "plt.imshow(label_lw4_1_multi[0, 0:1024, 0:1024], cmap=\"gray\")\n",
    "plt.show()\n",
    "plt.imshow(label_lw4_2_multi[0, 0:1024, 0:1024], cmap=\"gray\")\n",
    "plt.show()\n",
    "plt.imshow(label_lw4_1_dt_multi[0, 0:1024, 0:1024].astype(np.float32), cmap=\"gray\")\n",
    "plt.show()\n",
    "plt.imshow(label_lw4_2_dt_multi[0, 0:1024, 0:1024].astype(np.float32), cmap=\"gray\")\n",
    "plt.show()"
   ]
  },
  {
   "cell_type": "code",
   "execution_count": null,
   "metadata": {},
   "outputs": [],
   "source": [
    "plt.imshow(image_i3_multi[79, 0:1024, 0:1024], cmap=\"gray\")\n",
    "plt.show()\n",
    "plt.imshow(label_i3_1_multi[79, 0:1024, 0:1024], cmap=\"gray\")\n",
    "plt.show()\n",
    "plt.imshow(label_i3_2_multi[79, 0:1024, 0:1024], cmap=\"gray\")\n",
    "plt.show()\n",
    "plt.imshow(label_i3_1_dt_multi[79, 0:1024, 0:1024].astype(np.float32), cmap=\"gray\")\n",
    "plt.show()\n",
    "plt.imshow(label_i3_2_dt_multi[79, 0:1024, 0:1024].astype(np.float32), cmap=\"gray\")\n",
    "plt.show()"
   ]
  },
  {
   "cell_type": "code",
   "execution_count": null,
   "metadata": {},
   "outputs": [],
   "source": [
    "plt.imshow(image_lw4_multi[79, 0:1024, 0:1024], cmap=\"gray\")\n",
    "plt.show()\n",
    "plt.imshow(label_lw4_1_multi[79, 0:1024, 0:1024], cmap=\"gray\")\n",
    "plt.show()\n",
    "plt.imshow(label_lw4_2_multi[79, 0:1024, 0:1024], cmap=\"gray\")\n",
    "plt.show()\n",
    "plt.imshow(label_lw4_1_dt_multi[79, 0:1024, 0:1024].astype(np.float32), cmap=\"gray\")\n",
    "plt.show()\n",
    "plt.imshow(label_lw4_2_dt_multi[79, 0:1024, 0:1024].astype(np.float32), cmap=\"gray\")\n",
    "plt.show()"
   ]
  }
 ],
 "metadata": {
  "kernelspec": {
   "display_name": "venv_tf230",
   "language": "python",
   "name": "venv_tf230"
  },
  "language_info": {
   "codemirror_mode": {
    "name": "ipython",
    "version": 3
   },
   "file_extension": ".py",
   "mimetype": "text/x-python",
   "name": "python",
   "nbconvert_exporter": "python",
   "pygments_lexer": "ipython3",
   "version": "3.6.9"
  }
 },
 "nbformat": 4,
 "nbformat_minor": 4
}
