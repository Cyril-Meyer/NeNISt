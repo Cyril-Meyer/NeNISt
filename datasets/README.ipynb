{
 "cells": [
  {
   "cell_type": "markdown",
   "id": "de84e5f3-dd37-4af0-bb2e-33540c9f9de6",
   "metadata": {},
   "source": [
    "datasets"
   ]
  },
  {
   "cell_type": "code",
   "execution_count": null,
   "id": "9de45f78-07b3-4af9-9e40-227607ecd93d",
   "metadata": {},
   "outputs": [],
   "source": []
  }
 ],
 "metadata": {
  "kernelspec": {
   "display_name": "venv_tf260",
   "language": "python",
   "name": "venv_tf260"
  },
  "language_info": {
   "codemirror_mode": {
    "name": "ipython",
    "version": 3
   },
   "file_extension": ".py",
   "mimetype": "text/x-python",
   "name": "python",
   "nbconvert_exporter": "python",
   "pygments_lexer": "ipython3",
   "version": "3.6.9"
  }
 },
 "nbformat": 4,
 "nbformat_minor": 5
}
