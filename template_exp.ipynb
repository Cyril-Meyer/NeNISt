{
 "cells": [
  {
   "cell_type": "code",
   "execution_count": null,
   "metadata": {},
   "outputs": [],
   "source": [
    "import sys\n",
    "import os\n",
    "import datetime\n",
    "import time\n",
    "import numpy as np\n",
    "import tensorflow as tf\n",
    "import segmentation_models as sm\n",
    "import skimage\n",
    "import sklearn\n",
    "import sklearn.metrics\n",
    "\n",
    "import data.patch2D\n",
    "import data.patch25D\n",
    "import data.patch2DM\n",
    "import data.patch3D\n",
    "\n",
    "import models.UNet\n",
    "import models.UNet3D\n",
    "import models.EfficientUNet\n",
    "\n",
    "import metrics.connected_components\n",
    "import metrics.distance_contour"
   ]
  },
  {
   "cell_type": "code",
   "execution_count": null,
   "metadata": {},
   "outputs": [],
   "source": [
    "(64*64*16)/(256*256) == 1\n",
    "if 'ipykernel' in sys.modules:\n",
    "    # params = [\"2DUNET-32\", \"(256,256,1)\", \"4\"]\n",
    "    params = [\"2DUNET-32\", \"(1024,1024,1)\", \"2\"]\n",
    "    # params = [\"3DUNET-32\", \"(16,64,64,1)\", \"4\"]\n",
    "    # params = [\"3DUNET-32\", \"(16,128,128,1)\", \"1\"]\n",
    "else:\n",
    "    params = sys.argv[1:]"
   ]
  },
  {
   "cell_type": "markdown",
   "metadata": {},
   "source": [
    "### Experiment setup"
   ]
  },
  {
   "cell_type": "code",
   "execution_count": null,
   "metadata": {},
   "outputs": [],
   "source": [
    "EXP_NAME = \"UNET_vs_UNET3D\"\n",
    "\n",
    "# Exp params\n",
    "N_PARAMS = 3\n",
    "# P1 : exp/model codename\n",
    "# P2 : patch size tuple\n",
    "# P3 : batch size\n",
    "# Check number of parameters\n",
    "True if (len(params) == N_PARAMS) else exit(1)\n",
    "\n",
    "MODELNAME = params[0]\n",
    "PATCH_SIZE = tuple(map(int, params[1].replace(\"(\",\"\").replace(\")\",\"\").split(','))) \n",
    "BATCH_SIZE = int(params[2])\n",
    "\n",
    "# Fixed params\n",
    "DATASET = \"LW4_40_9\"\n",
    "EPOCHS = 100\n",
    "TRAIN_PER_EPOCHS = 512\n",
    "VALID_PER_EPOCHS = 0\n",
    "\n",
    "# Exp related computing\n",
    "if   MODELNAME == \"2DUNET-8\":\n",
    "    # Total params: 488,689\n",
    "    MODEL = models.UNet.UNet(input_shape=(None, None, 1), output_classes=9, output_activation='tanh',\n",
    "             filters=8, depth=5, conv_per_block=2,\n",
    "             dropouts=0.50, batch_normalization=True)\n",
    "elif MODELNAME == \"2DUNET-16\":\n",
    "    # Total params: 1,946,841\n",
    "    MODEL = models.UNet.UNet(input_shape=(None, None, 1), output_classes=9, output_activation='tanh',\n",
    "             filters=16, depth=5, conv_per_block=2,\n",
    "             dropouts=0.50, batch_normalization=True)\n",
    "elif MODELNAME == \"2DUNET-32\":\n",
    "    # Total params: 7,771,561\n",
    "    MODEL = models.UNet.UNet(input_shape=(None, None, 1), output_classes=9, output_activation='tanh',\n",
    "             filters=32, depth=5, conv_per_block=2,\n",
    "             dropouts=0.50, batch_normalization=True)\n",
    "elif MODELNAME == \"2DUNET-64\":\n",
    "    # Total params: 31,054,665\n",
    "    MODEL = models.UNet.UNet(input_shape=(None, None, 1), output_classes=9, output_activation='tanh',\n",
    "             filters=64, depth=5, conv_per_block=2,\n",
    "             dropouts=0.50, batch_normalization=True)\n",
    "elif MODELNAME == \"3DUNET-8\":\n",
    "    # Total params: 1,474,433\n",
    "    MODEL = models.UNet3D.UNet(input_shape=(None, None, None, 1), output_classes=9, output_activation='tanh',\n",
    "             filters=8, depth=5, pool_size=(2, 2, 2), conv_per_block=2,\n",
    "             dropouts=0.50, batch_normalization=True)\n",
    "elif MODELNAME == \"3DUNET-16_4\":\n",
    "    # Total params: 1,462,401\n",
    "    MODEL = models.UNet3D.UNet(input_shape=(None, None, None, 1), output_classes=9, output_activation='tanh',\n",
    "             filters=16, depth=4, pool_size=(2, 2, 2), conv_per_block=2,\n",
    "             dropouts=0.50, batch_normalization=True)\n",
    "elif MODELNAME == \"3DUNET-16\":\n",
    "    # Total params: 5,889,921\n",
    "    MODEL = models.UNet3D.UNet(input_shape=(None, None, None, 1), output_classes=9, output_activation='tanh',\n",
    "             filters=16, depth=5, pool_size=(2, 2, 2), conv_per_block=2,\n",
    "             dropouts=0.50, batch_normalization=True)\n",
    "elif MODELNAME == \"3DUNET-32_4\":\n",
    "    # Total params: 5,841,665\n",
    "    MODEL = models.UNet3D.UNet(input_shape=(None, None, None, 1), output_classes=9, output_activation='tanh',\n",
    "             filters=32, depth=4, pool_size=(2, 2, 2), conv_per_block=2,\n",
    "             dropouts=0.50, batch_normalization=True)\n",
    "elif MODELNAME == \"3DUNET-32\":\n",
    "    # Total params: 23,544,065\n",
    "    MODEL = models.UNet3D.UNet(input_shape=(None, None, None, 1), output_classes=9, output_activation='tanh',\n",
    "             filters=32, depth=5, pool_size=(2, 2, 2), conv_per_block=2,\n",
    "             dropouts=0.50, batch_normalization=True)\n",
    "else:\n",
    "    print(\"error: model does not exist\")\n",
    "    exit(1)"
   ]
  },
  {
   "cell_type": "markdown",
   "metadata": {},
   "source": [
    "### Experiment run"
   ]
  },
  {
   "cell_type": "code",
   "execution_count": null,
   "metadata": {},
   "outputs": [],
   "source": [
    "if DATASET == \"I3\":\n",
    "    import data.datasets.I3 as D\n",
    "elif DATASET == \"LW4\":\n",
    "    import data.datasets.LW4 as D\n",
    "elif DATASET == \"LW4_40_9\":\n",
    "    import data.datasets.LW4_40_9 as D\n",
    "else:\n",
    "    print(\"error: dataset does not exist\")\n",
    "    exit(1)\n",
    "\n",
    "if(os.uname()[1] == 'lythandas'):\n",
    "    OUTPUT_FOLDER = \"/home/cyril/Development/NeNISt/\" + EXP_NAME\n",
    "else:\n",
    "    OUTPUT_FOLDER = \"/b/home/miv/cmeyer/NeNISt/\" + EXP_NAME\n",
    "\n",
    "if not os.path.exists(OUTPUT_FOLDER):\n",
    "    os.makedirs(OUTPUT_FOLDER)"
   ]
  },
  {
   "cell_type": "code",
   "execution_count": null,
   "metadata": {},
   "outputs": [],
   "source": [
    "dt = datetime.datetime.today().strftime(\"%j%H%M%S%f\")[:-2]\n",
    "EXP_NAME = (EXP_NAME + \"_\" + str(MODELNAME) + \"_\" + str(PATCH_SIZE) + \"_\" + dt).replace(\" \", \"\")"
   ]
  },
  {
   "cell_type": "code",
   "execution_count": null,
   "metadata": {},
   "outputs": [],
   "source": [
    "train_image = D.train_image_normalized_f32\n",
    "train_labels_dt = D.train_labels_dt\n",
    "train_labels_indexes = [D.train_label_1_indexes, D.train_label_2_indexes, D.train_label_3_indexes, D.train_label_4_indexes, D.train_label_5_indexes, D.train_label_6_indexes, D.train_label_7_indexes, D.train_label_8_indexes, D.train_label_9_indexes]\n",
    "\n",
    "test_image = D.test_image_normalized_f32\n",
    "test_labels_dt = D.test_labels_dt\n",
    "test_labels_indexes = [D.test_label_1_indexes, D.test_label_2_indexes, D.test_label_3_indexes, D.test_label_4_indexes, D.test_label_5_indexes, D.test_label_6_indexes, D.test_label_7_indexes, D.test_label_8_indexes, D.test_label_9_indexes]"
   ]
  },
  {
   "cell_type": "code",
   "execution_count": null,
   "metadata": {},
   "outputs": [],
   "source": [
    "# data generator\n",
    "if \"3D\" in MODELNAME and len(PATCH_SIZE) == 4:\n",
    "    train = data.patch3D.gen_patches_batch_augmented_3d_label_indexes_one_hot(PATCH_SIZE[0], PATCH_SIZE[1], PATCH_SIZE[2], train_image, train_labels_dt, train_labels_indexes, batch_size=BATCH_SIZE)\n",
    "    test = data.patch3D.gen_patches_batch_augmented_3d_label_indexes_one_hot(PATCH_SIZE[0], PATCH_SIZE[1], PATCH_SIZE[2], test_image, test_labels_dt, test_labels_indexes, batch_size=BATCH_SIZE)\n",
    "elif \"2D\" in MODELNAME and len(PATCH_SIZE) == 3:\n",
    "    if PATCH_SIZE[0] == PATCH_SIZE[1]:\n",
    "        train = data.patch2D.gen_patches_batch_augmented_label_indexes_one_hot(PATCH_SIZE[0], train_image, train_labels_dt, train_labels_indexes, batch_size=BATCH_SIZE)\n",
    "        test = data.patch2D.gen_patches_batch_augmented_label_indexes_one_hot(PATCH_SIZE[0], test_image, test_labels_dt, test_labels_indexes, batch_size=BATCH_SIZE)\n",
    "    else:\n",
    "        print(\"error: non square 2D patch size, check data.patch2D\")\n",
    "        exit(1)\n",
    "else:\n",
    "    print(\"error: patch size the model are not compatible\")\n",
    "    exit(1)"
   ]
  },
  {
   "cell_type": "code",
   "execution_count": null,
   "metadata": {},
   "outputs": [],
   "source": [
    "# compute class weights on train dataset\n",
    "'''\n",
    "class_weights = np.zeros(train_labels_one_hot.shape[-1])\n",
    "for c in range(len(class_weights)):\n",
    "    class_weights[c] = 1 - train_labels_one_hot[:,:,:,c].sum() / (train_labels_one_hot.shape[0] * train_labels_one_hot.shape[1] * train_labels_one_hot.shape[2])\n",
    "class_weights\n",
    "'''"
   ]
  },
  {
   "cell_type": "code",
   "execution_count": null,
   "metadata": {},
   "outputs": [],
   "source": [
    "# loss = sm.losses.DiceLoss(class_weights=class_weights)\n",
    "loss = tf.keras.losses.MeanSquaredError()\n",
    "optimizer = tf.keras.optimizers.Adam(learning_rate=0.001, beta_1=0.9, beta_2=0.999, epsilon=1e-07)\n",
    "\n",
    "model = MODEL\n",
    "model.compile(optimizer=optimizer, loss=loss)"
   ]
  },
  {
   "cell_type": "code",
   "execution_count": null,
   "metadata": {},
   "outputs": [],
   "source": [
    "model.fit(train, steps_per_epoch=TRAIN_PER_EPOCHS, epochs=EPOCHS, validation_data=test, validation_steps=32)"
   ]
  },
  {
   "cell_type": "code",
   "execution_count": null,
   "metadata": {},
   "outputs": [],
   "source": [
    "model.save_weights(OUTPUT_FOLDER + \"/\" + EXP_NAME + \".h5\")"
   ]
  },
  {
   "cell_type": "code",
   "execution_count": null,
   "metadata": {},
   "outputs": [],
   "source": [
    "model.evaluate(test, steps=4*TRAIN_PER_EPOCHS)"
   ]
  }
 ],
 "metadata": {
  "kernelspec": {
   "display_name": "venv_tf230",
   "language": "python",
   "name": "venv_tf230"
  },
  "language_info": {
   "codemirror_mode": {
    "name": "ipython",
    "version": 3
   },
   "file_extension": ".py",
   "mimetype": "text/x-python",
   "name": "python",
   "nbconvert_exporter": "python",
   "pygments_lexer": "ipython3",
   "version": "3.6.9"
  }
 },
 "nbformat": 4,
 "nbformat_minor": 4
}
